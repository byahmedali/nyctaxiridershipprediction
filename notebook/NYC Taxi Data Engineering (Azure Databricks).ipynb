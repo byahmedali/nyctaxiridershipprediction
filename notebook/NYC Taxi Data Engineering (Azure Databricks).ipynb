{
 "cells": [
  {
   "cell_type": "markdown",
   "metadata": {
    "application/vnd.databricks.v1+cell": {
     "cellMetadata": {
      "byteLimit": 2048000,
      "rowLimit": 10000
     },
     "inputWidgets": {},
     "nuid": "30354b9b-f7c6-4c80-a82d-dfb33246f62b",
     "showTitle": false,
     "tableResultSettingsMap": {},
     "title": ""
    }
   },
   "source": [
    "# NYC Taxi Data Engineering with Azure Databricks\n",
    "\n",
    "This notebook demonstrates the Extract, Transform, Load (ETL) process for New York City Taxi data using Azure Databricks. We'll process both Yellow and Green taxi trip data from the NYC Taxi & Limousine Commission (TLC) and prepare it for model training in Azure Machine Learning.\n",
    "\n",
    "## Overview of the ETL Process\n",
    "\n",
    "1. **Extract**: \n",
    "   - Download Yellow and Green taxi trip data from TLC website\n",
    "   - Fetch taxi zone lookup data and latitude/longitude information\n",
    "\n",
    "2. **Transform**:\n",
    "   - Clean and standardize taxi trip data\n",
    "   - Add derived features (trip duration, time-based features)\n",
    "   - Join with location data for geographical context\n",
    "   - Aggregate data for analysis\n",
    "\n",
    "3. **Load**:\n",
    "   - Prepare data in the required format\n",
    "   - Create MLTable configuration\n",
    "   - Upload to Azure ML datastore\n",
    "\n",
    "Let's begin with setting up our environment!"
   ]
  },
  {
   "cell_type": "markdown",
   "metadata": {
    "application/vnd.databricks.v1+cell": {
     "cellMetadata": {
      "byteLimit": 2048000,
      "rowLimit": 10000
     },
     "inputWidgets": {},
     "nuid": "3db64dc5-55d4-4822-ba24-59d25d6c5fb8",
     "showTitle": false,
     "tableResultSettingsMap": {},
     "title": ""
    }
   },
   "source": [
    "# 1. Setup Environment\n",
    "\n",
    "We'll start by importing the necessary Python packages and setting up our Databricks environment. This includes:\n",
    "- Standard Python libraries for data manipulation\n",
    "- PySpark functions for distributed data processing\n",
    "- Creating input/output directories in Databricks File System (DBFS)"
   ]
  },
  {
   "cell_type": "code",
   "execution_count": 0,
   "metadata": {
    "application/vnd.databricks.v1+cell": {
     "cellMetadata": {
      "byteLimit": 2048000,
      "rowLimit": 10000
     },
     "inputWidgets": {},
     "nuid": "0fefc5f1-6567-4056-872e-e43347c3eb92",
     "showTitle": false,
     "tableResultSettingsMap": {},
     "title": ""
    }
   },
   "outputs": [
    {
     "name": "stdout",
     "output_type": "stream",
     "text": [
      "Collecting holidays\n",
      "  Downloading holidays-0.77-py3-none-any.whl.metadata (46 kB)\n",
      "\u001b[?25l     \u001b[90m━━━━━━━━━━━━━━━━━━━━━━━━━━━━━━━━━━━━━━━━\u001b[0m \u001b[32m0.0/46.4 kB\u001b[0m \u001b[31m?\u001b[0m eta \u001b[36m-:--:--\u001b[0m\n",
      "\u001b[2K     \u001b[91m━━━━━━━━━━━━━━━━━━━━━━━━━━━━━━━━━━━\u001b[0m\u001b[90m╺\u001b[0m\u001b[90m━━━━\u001b[0m \u001b[32m41.0/46.4 kB\u001b[0m \u001b[31m1.2 MB/s\u001b[0m eta \u001b[36m0:00:01\u001b[0m\n",
      "\u001b[2K     \u001b[90m━━━━━━━━━━━━━━━━━━━━━━━━━━━━━━━━━━━━━━━\u001b[0m \u001b[32m46.4/46.4 kB\u001b[0m \u001b[31m946.0 kB/s\u001b[0m eta \u001b[36m0:00:00\u001b[0m\n",
      "\u001b[?25hRequirement already satisfied: python-dateutil in /databricks/python3/lib/python3.12/site-packages (from holidays) (2.9.0.post0)\n",
      "Requirement already satisfied: six>=1.5 in /usr/lib/python3/dist-packages (from python-dateutil->holidays) (1.16.0)\n",
      "Downloading holidays-0.77-py3-none-any.whl (1.2 MB)\n",
      "\u001b[?25l   \u001b[90m━━━━━━━━━━━━━━━━━━━━━━━━━━━━━━━━━━━━━━━━\u001b[0m \u001b[32m0.0/1.2 MB\u001b[0m \u001b[31m?\u001b[0m eta \u001b[36m-:--:--\u001b[0m\n",
      "\u001b[2K   \u001b[91m━━━\u001b[0m\u001b[91m╸\u001b[0m\u001b[90m━━━━━━━━━━━━━━━━━━━━━━━━━━━━━━━━━━━━\u001b[0m \u001b[32m0.1/1.2 MB\u001b[0m \u001b[31m3.2 MB/s\u001b[0m eta \u001b[36m0:00:01\u001b[0m\n",
      "\u001b[2K   \u001b[91m━━━━━━━━━━━━\u001b[0m\u001b[90m╺\u001b[0m\u001b[90m━━━━━━━━━━━━━━━━━━━━━━━━━━━\u001b[0m \u001b[32m0.4/1.2 MB\u001b[0m \u001b[31m5.3 MB/s\u001b[0m eta \u001b[36m0:00:01\u001b[0m\n",
      "\u001b[2K   \u001b[91m━━━━━━━━━━━━━━━━━━━━━━━━━━━━━━━━━\u001b[0m\u001b[90m╺\u001b[0m\u001b[90m━━━━━━\u001b[0m \u001b[32m1.0/1.2 MB\u001b[0m \u001b[31m9.6 MB/s\u001b[0m eta \u001b[36m0:00:01\u001b[0m\n",
      "\u001b[2K   \u001b[90m━━━━━━━━━━━━━━━━━━━━━━━━━━━━━━━━━━━━━━━━\u001b[0m \u001b[32m1.2/1.2 MB\u001b[0m \u001b[31m9.1 MB/s\u001b[0m eta \u001b[36m0:00:00\u001b[0m\n",
      "\u001b[?25hInstalling collected packages: holidays\n",
      "Successfully installed holidays-0.77\n",
      "\u001b[43mNote: you may need to restart the kernel using %restart_python or dbutils.library.restartPython() to use updated packages.\u001b[0m\n"
     ]
    }
   ],
   "source": [
    "# Install holidays library for feature engineering in a later step\n",
    "!pip install holidays"
   ]
  },
  {
   "cell_type": "code",
   "execution_count": 0,
   "metadata": {
    "application/vnd.databricks.v1+cell": {
     "cellMetadata": {
      "byteLimit": 2048000,
      "rowLimit": 10000
     },
     "inputWidgets": {},
     "nuid": "30d37786-9b03-4f73-b9ed-02bab447f2d5",
     "showTitle": false,
     "tableResultSettingsMap": {},
     "title": ""
    }
   },
   "outputs": [],
   "source": [
    "# Import standard Python libraries for data manipulation and analysis\n",
    "import os\n",
    "import math\n",
    "import datetime\n",
    "import numpy as np\n",
    "import pandas as pd\n",
    "import holidays\n",
    "\n",
    "# Import specific PySpark functions for data processing\n",
    "from pyspark.sql.functions import (\n",
    "    col,           # Column operations\n",
    "    lit,           # Create literal values\n",
    "    when,          # Conditional statements\n",
    "    month,         # Date functions\n",
    "    year,\n",
    "    dayofmonth,\n",
    "    date_format,\n",
    "    unix_timestamp,\n",
    "    udf            # User-defined functions\n",
    ")\n",
    "from pyspark.sql.types import IntegerType"
   ]
  },
  {
   "cell_type": "code",
   "execution_count": 0,
   "metadata": {
    "application/vnd.databricks.v1+cell": {
     "cellMetadata": {
      "byteLimit": 2048000,
      "rowLimit": 10000
     },
     "inputWidgets": {},
     "nuid": "0edccbd5-9e15-462d-bfd1-5ce19bdbefc3",
     "showTitle": false,
     "tableResultSettingsMap": {},
     "title": ""
    }
   },
   "outputs": [
    {
     "data": {
      "text/plain": [
       "True"
      ]
     },
     "execution_count": 25,
     "metadata": {},
     "output_type": "execute_result"
    }
   ],
   "source": [
    "# Create input and output directories in Databricks File System (DBFS)\n",
    "# These directories will store our raw data and processed results\n",
    "dbutils.fs.mkdirs(\"/FileStore/tables/Input/\")\n",
    "dbutils.fs.mkdirs(\"/FileStore/tables/Output/\")"
   ]
  },
  {
   "cell_type": "markdown",
   "metadata": {
    "application/vnd.databricks.v1+cell": {
     "cellMetadata": {
      "byteLimit": 2048000,
      "rowLimit": 10000
     },
     "inputWidgets": {},
     "nuid": "e9a1668e-c615-4b7d-8439-26061815722b",
     "showTitle": false,
     "tableResultSettingsMap": {},
     "title": ""
    }
   },
   "source": [
    "# 2. Extract Data (E)\n",
    "\n",
    "In this section, we'll download the required data from various sources:\n",
    "\n",
    "1. **NYC TLC Trip Data**: \n",
    "   - Yellow taxi trip records (2020-2024)\n",
    "   - Green taxi trip records (2020-2024)\n",
    "   \n",
    "2. **Supporting Data**:\n",
    "   - Taxi zone lookup table\n",
    "   - Location latitude/longitude information\n",
    "\n",
    "The data will be downloaded using `wget` command in shell through the `%sh` magic command in Databricks."
   ]
  },
  {
   "cell_type": "code",
   "execution_count": 0,
   "metadata": {
    "application/vnd.databricks.v1+cell": {
     "cellMetadata": {
      "byteLimit": 2048000,
      "rowLimit": 10000
     },
     "inputWidgets": {},
     "nuid": "54369023-f53f-4477-b69a-90234d0a21d5",
     "showTitle": false,
     "tableResultSettingsMap": {},
     "title": ""
    },
    "vscode": {
     "languageId": "sh"
    }
   },
   "outputs": [
    {
     "name": "stdout",
     "output_type": "stream",
     "text": [
      "Already exists, skipping: yellow_tripdata_2020-01.parquet\n",
      "Already exists, skipping: green_tripdata_2020-01.parquet\n",
      "Already exists, skipping: yellow_tripdata_2020-02.parquet\n",
      "Already exists, skipping: green_tripdata_2020-02.parquet\n",
      "Already exists, skipping: yellow_tripdata_2020-03.parquet\n",
      "Already exists, skipping: green_tripdata_2020-03.parquet\n",
      "Already exists, skipping: yellow_tripdata_2020-04.parquet\n",
      "Already exists, skipping: green_tripdata_2020-04.parquet\n",
      "Already exists, skipping: yellow_tripdata_2020-05.parquet\n",
      "Already exists, skipping: green_tripdata_2020-05.parquet\n",
      "Already exists, skipping: yellow_tripdata_2020-06.parquet\n",
      "Already exists, skipping: green_tripdata_2020-06.parquet\n",
      "Already exists, skipping: yellow_tripdata_2020-07.parquet\n",
      "Already exists, skipping: green_tripdata_2020-07.parquet\n",
      "Already exists, skipping: yellow_tripdata_2020-08.parquet\n",
      "Already exists, skipping: green_tripdata_2020-08.parquet\n",
      "Already exists, skipping: yellow_tripdata_2020-09.parquet\n",
      "Already exists, skipping: green_tripdata_2020-09.parquet\n",
      "Already exists, skipping: yellow_tripdata_2020-10.parquet\n",
      "Already exists, skipping: green_tripdata_2020-10.parquet\n",
      "Already exists, skipping: yellow_tripdata_2020-11.parquet\n",
      "Already exists, skipping: green_tripdata_2020-11.parquet\n",
      "Already exists, skipping: yellow_tripdata_2020-12.parquet\n",
      "Already exists, skipping: green_tripdata_2020-12.parquet\n",
      "Already exists, skipping: yellow_tripdata_2021-01.parquet\n",
      "Already exists, skipping: green_tripdata_2021-01.parquet\n",
      "Already exists, skipping: yellow_tripdata_2021-02.parquet\n",
      "Already exists, skipping: green_tripdata_2021-02.parquet\n",
      "Already exists, skipping: yellow_tripdata_2021-03.parquet\n",
      "Already exists, skipping: green_tripdata_2021-03.parquet\n",
      "Already exists, skipping: yellow_tripdata_2021-04.parquet\n",
      "Already exists, skipping: green_tripdata_2021-04.parquet\n",
      "Already exists, skipping: yellow_tripdata_2021-05.parquet\n",
      "Already exists, skipping: green_tripdata_2021-05.parquet\n",
      "Already exists, skipping: yellow_tripdata_2021-06.parquet\n",
      "Already exists, skipping: green_tripdata_2021-06.parquet\n",
      "Already exists, skipping: yellow_tripdata_2021-07.parquet\n",
      "Already exists, skipping: green_tripdata_2021-07.parquet\n",
      "Already exists, skipping: yellow_tripdata_2021-08.parquet\n",
      "Already exists, skipping: green_tripdata_2021-08.parquet\n",
      "Already exists, skipping: yellow_tripdata_2021-09.parquet\n",
      "Already exists, skipping: green_tripdata_2021-09.parquet\n",
      "Already exists, skipping: yellow_tripdata_2021-10.parquet\n",
      "Already exists, skipping: green_tripdata_2021-10.parquet\n",
      "Already exists, skipping: yellow_tripdata_2021-11.parquet\n",
      "Already exists, skipping: green_tripdata_2021-11.parquet\n",
      "Already exists, skipping: yellow_tripdata_2021-12.parquet\n",
      "Already exists, skipping: green_tripdata_2021-12.parquet\n",
      "Already exists, skipping: yellow_tripdata_2022-01.parquet\n",
      "Already exists, skipping: green_tripdata_2022-01.parquet\n",
      "Already exists, skipping: yellow_tripdata_2022-02.parquet\n",
      "Already exists, skipping: green_tripdata_2022-02.parquet\n",
      "Already exists, skipping: yellow_tripdata_2022-03.parquet\n",
      "Already exists, skipping: green_tripdata_2022-03.parquet\n",
      "Already exists, skipping: yellow_tripdata_2022-04.parquet\n",
      "Already exists, skipping: green_tripdata_2022-04.parquet\n",
      "Already exists, skipping: yellow_tripdata_2022-05.parquet\n",
      "Already exists, skipping: green_tripdata_2022-05.parquet\n",
      "Already exists, skipping: yellow_tripdata_2022-06.parquet\n",
      "Already exists, skipping: green_tripdata_2022-06.parquet\n",
      "Already exists, skipping: yellow_tripdata_2022-07.parquet\n",
      "Already exists, skipping: green_tripdata_2022-07.parquet\n",
      "Already exists, skipping: yellow_tripdata_2022-08.parquet\n",
      "Already exists, skipping: green_tripdata_2022-08.parquet\n",
      "Already exists, skipping: yellow_tripdata_2022-09.parquet\n",
      "Already exists, skipping: green_tripdata_2022-09.parquet\n",
      "Already exists, skipping: yellow_tripdata_2022-10.parquet\n",
      "Already exists, skipping: green_tripdata_2022-10.parquet\n",
      "Already exists, skipping: yellow_tripdata_2022-11.parquet\n",
      "Already exists, skipping: green_tripdata_2022-11.parquet\n",
      "Already exists, skipping: yellow_tripdata_2022-12.parquet\n",
      "Already exists, skipping: green_tripdata_2022-12.parquet\n",
      "Already exists, skipping: yellow_tripdata_2023-01.parquet\n",
      "Already exists, skipping: green_tripdata_2023-01.parquet\n",
      "Already exists, skipping: yellow_tripdata_2023-02.parquet\n",
      "Already exists, skipping: green_tripdata_2023-02.parquet\n",
      "Already exists, skipping: yellow_tripdata_2023-03.parquet\n",
      "Already exists, skipping: green_tripdata_2023-03.parquet\n",
      "Already exists, skipping: yellow_tripdata_2023-04.parquet\n",
      "Already exists, skipping: green_tripdata_2023-04.parquet\n",
      "Already exists, skipping: yellow_tripdata_2023-05.parquet\n",
      "Already exists, skipping: green_tripdata_2023-05.parquet\n",
      "Already exists, skipping: yellow_tripdata_2023-06.parquet\n",
      "Already exists, skipping: green_tripdata_2023-06.parquet\n",
      "Already exists, skipping: yellow_tripdata_2023-07.parquet\n",
      "Already exists, skipping: green_tripdata_2023-07.parquet\n",
      "Already exists, skipping: yellow_tripdata_2023-08.parquet\n",
      "Already exists, skipping: green_tripdata_2023-08.parquet\n",
      "Already exists, skipping: yellow_tripdata_2023-09.parquet\n",
      "Already exists, skipping: green_tripdata_2023-09.parquet\n",
      "Already exists, skipping: yellow_tripdata_2023-10.parquet\n",
      "Already exists, skipping: green_tripdata_2023-10.parquet\n",
      "Already exists, skipping: yellow_tripdata_2023-11.parquet\n",
      "Already exists, skipping: green_tripdata_2023-11.parquet\n",
      "Already exists, skipping: yellow_tripdata_2023-12.parquet\n",
      "Already exists, skipping: green_tripdata_2023-12.parquet\n",
      "Already exists, skipping: yellow_tripdata_2024-01.parquet\n",
      "Already exists, skipping: green_tripdata_2024-01.parquet\n",
      "Already exists, skipping: yellow_tripdata_2024-02.parquet\n",
      "Already exists, skipping: green_tripdata_2024-02.parquet\n",
      "Already exists, skipping: yellow_tripdata_2024-03.parquet\n",
      "Already exists, skipping: green_tripdata_2024-03.parquet\n",
      "Already exists, skipping: yellow_tripdata_2024-04.parquet\n",
      "Already exists, skipping: green_tripdata_2024-04.parquet\n",
      "Already exists, skipping: yellow_tripdata_2024-05.parquet\n",
      "Already exists, skipping: green_tripdata_2024-05.parquet\n",
      "Already exists, skipping: yellow_tripdata_2024-06.parquet\n",
      "Already exists, skipping: green_tripdata_2024-06.parquet\n",
      "Already exists, skipping: yellow_tripdata_2024-07.parquet\n",
      "Already exists, skipping: green_tripdata_2024-07.parquet\n",
      "Already exists, skipping: yellow_tripdata_2024-08.parquet\n",
      "Already exists, skipping: green_tripdata_2024-08.parquet\n",
      "Already exists, skipping: yellow_tripdata_2024-09.parquet\n",
      "Already exists, skipping: green_tripdata_2024-09.parquet\n",
      "Already exists, skipping: yellow_tripdata_2024-10.parquet\n",
      "Already exists, skipping: green_tripdata_2024-10.parquet\n",
      "Already exists, skipping: yellow_tripdata_2024-11.parquet\n",
      "Already exists, skipping: green_tripdata_2024-11.parquet\n",
      "Already exists, skipping: yellow_tripdata_2024-12.parquet\n",
      "Already exists, skipping: green_tripdata_2024-12.parquet\n",
      "Downloaded files: 0\n",
      "Skipped (already existing): 120\n",
      "Skipped (missing on server): 0\n"
     ]
    }
   ],
   "source": [
    "%sh\n",
    "cd /dbfs/FileStore/tables/Input/\n",
    "\n",
    "# Base URL for TLC trip data\n",
    "base_url=\"https://d37ci6vzurychx.cloudfront.net/trip-data/\"\n",
    "\n",
    "# Define file types and months to download\n",
    "file_types=(\"yellow\" \"green\")\n",
    "months=(\"01\" \"02\" \"03\" \"04\" \"05\" \"06\" \"07\" \"08\" \"09\" \"10\" \"11\" \"12\")\n",
    "\n",
    "# Set year range\n",
    "start_year=2020\n",
    "end_year=2024\n",
    "\n",
    "# Initialize counters for download statistics\n",
    "downloaded_files=0\n",
    "skipped_missing=0\n",
    "skipped_existing=0\n",
    "\n",
    "# Loop through years, months, and file types to download data\n",
    "for year in $(seq $start_year $end_year); do\n",
    "  for month in \"${months[@]}\"; do\n",
    "    for file_type in \"${file_types[@]}\"; do\n",
    "      mkdir -p \"$file_type\"\n",
    "      cd \"$file_type\"\n",
    "\n",
    "      file_name=\"${file_type}_tripdata_${year}-${month}.parquet\"\n",
    "      url=\"${base_url}${file_name}\"\n",
    "\n",
    "      # Skip if file already exists\n",
    "      if [ -f \"$file_name\" ]; then\n",
    "        echo \"Already exists, skipping: $file_name\"\n",
    "        ((skipped_existing++))\n",
    "        cd ..\n",
    "        continue\n",
    "      fi\n",
    "\n",
    "      # Download file if it exists on server\n",
    "      wget --spider \"$url\"\n",
    "      if [ $? -eq 0 ]; then\n",
    "        wget -O \"$file_name\" \"$url\"\n",
    "        echo \"Downloaded: $file_name\"\n",
    "        ((downloaded_files++))\n",
    "      else\n",
    "        echo \"Not found on server, skipped: $file_name\"\n",
    "        ((skipped_missing++))\n",
    "      fi\n",
    "      cd ..\n",
    "    done\n",
    "  done\n",
    "done\n",
    "\n",
    "# Print download statistics\n",
    "echo \"Downloaded files: $downloaded_files\"\n",
    "echo \"Skipped (already existing): $skipped_existing\"\n",
    "echo \"Skipped (missing on server): $skipped_missing\""
   ]
  },
  {
   "cell_type": "markdown",
   "metadata": {
    "application/vnd.databricks.v1+cell": {
     "cellMetadata": {
      "byteLimit": 2048000,
      "rowLimit": 10000
     },
     "inputWidgets": {},
     "nuid": "97ef0099-5241-4c79-aa71-0d3f13a5b233",
     "showTitle": false,
     "tableResultSettingsMap": {},
     "title": ""
    }
   },
   "source": [
    "### Download supporting data files"
   ]
  },
  {
   "cell_type": "code",
   "execution_count": 0,
   "metadata": {
    "application/vnd.databricks.v1+cell": {
     "cellMetadata": {
      "byteLimit": 2048000,
      "rowLimit": 10000
     },
     "inputWidgets": {},
     "nuid": "6882bd2a-8875-4269-9290-28d58cf38492",
     "showTitle": false,
     "tableResultSettingsMap": {},
     "title": ""
    },
    "vscode": {
     "languageId": "sh"
    }
   },
   "outputs": [
    {
     "name": "stderr",
     "output_type": "stream",
     "text": [
      "--2025-07-27 09:57:16--  https://d37ci6vzurychx.cloudfront.net/misc/taxi_zone_lookup.csv\n",
      "Resolving d37ci6vzurychx.cloudfront.net (d37ci6vzurychx.cloudfront.net)... 54.230.125.148, 54.230.125.120, 54.230.125.110, ...\n",
      "Connecting to d37ci6vzurychx.cloudfront.net (d37ci6vzurychx.cloudfront.net)|54.230.125.148|:443... connected.\n",
      "HTTP request sent, awaiting response... 200 OK\n",
      "Length: 12331 (12K) [text/csv]\n",
      "Saving to: ‘taxi_zone_lookup.csv’\n",
      "\n",
      "     0K .......... ..                                         100% 1.08M=0.01s\n",
      "\n",
      "2025-07-27 09:57:17 (1.08 MB/s) - ‘taxi_zone_lookup.csv’ saved [12331/12331]\n",
      "\n",
      "--2025-07-27 09:57:17--  https://docs.google.com/uc?export=download&id=1mNh-xQhaU790aH8q_ZLCVXp6OZTNa5Wz\n",
      "Resolving docs.google.com (docs.google.com)... 142.250.198.142, 2404:6800:4005:804::200e\n",
      "Connecting to docs.google.com (docs.google.com)|142.250.198.142|:443... connected.\n",
      "HTTP request sent, awaiting response... 303 See Other\n",
      "Location: https://drive.usercontent.google.com/download?id=1mNh-xQhaU790aH8q_ZLCVXp6OZTNa5Wz&export=download [following]\n",
      "--2025-07-27 09:57:17--  https://drive.usercontent.google.com/download?id=1mNh-xQhaU790aH8q_ZLCVXp6OZTNa5Wz&export=download\n",
      "Resolving drive.usercontent.google.com (drive.usercontent.google.com)... 142.250.197.33, 2404:6800:4005:80a::2001\n",
      "Connecting to drive.usercontent.google.com (drive.usercontent.google.com)|142.250.197.33|:443... connected.\n",
      "HTTP request sent, awaiting response... 200 OK\n",
      "Length: 26578 (26K) [application/octet-stream]\n",
      "Saving to: ‘taxi_zones_latlong.csv’\n",
      "\n",
      "     0K .......... .......... .....                           100%  698K=0.04s\n",
      "\n",
      "2025-07-27 09:57:19 (698 KB/s) - ‘taxi_zones_latlong.csv’ saved [26578/26578]\n",
      "\n"
     ]
    }
   ],
   "source": [
    "%sh\n",
    "\n",
    "cd /dbfs/FileStore/tables/Input/\n",
    "\n",
    "# Download taxi zone lookup table\n",
    "wget 'https://d37ci6vzurychx.cloudfront.net/misc/taxi_zone_lookup.csv' -O taxi_zone_lookup.csv\n",
    "\n",
    "# Download latitude/longitude information\n",
    "wget --no-check-certificate 'https://docs.google.com/uc?export=download&id=1mNh-xQhaU790aH8q_ZLCVXp6OZTNa5Wz' -O taxi_zones_latlong.csv"
   ]
  },
  {
   "cell_type": "markdown",
   "metadata": {
    "application/vnd.databricks.v1+cell": {
     "cellMetadata": {
      "byteLimit": 2048000,
      "rowLimit": 10000
     },
     "inputWidgets": {},
     "nuid": "87977c49-0529-463b-b361-c30cdf9f0554",
     "showTitle": false,
     "tableResultSettingsMap": {},
     "title": ""
    }
   },
   "source": [
    "### List downloaded files"
   ]
  },
  {
   "cell_type": "code",
   "execution_count": 0,
   "metadata": {
    "application/vnd.databricks.v1+cell": {
     "cellMetadata": {
      "byteLimit": 2048000,
      "rowLimit": 10000
     },
     "inputWidgets": {},
     "nuid": "97c49bc0-fa2c-438f-88f0-9482ddc50298",
     "showTitle": false,
     "tableResultSettingsMap": {},
     "title": ""
    }
   },
   "outputs": [
    {
     "name": "stdout",
     "output_type": "stream",
     "text": [
      "yellow_tripdata_2020-01.parquet\n",
      "yellow_tripdata_2020-02.parquet\n",
      "yellow_tripdata_2020-03.parquet\n",
      "yellow_tripdata_2020-04.parquet\n",
      "yellow_tripdata_2020-05.parquet\n",
      "yellow_tripdata_2020-06.parquet\n",
      "yellow_tripdata_2020-07.parquet\n",
      "yellow_tripdata_2020-08.parquet\n",
      "yellow_tripdata_2020-09.parquet\n",
      "yellow_tripdata_2020-10.parquet\n",
      "yellow_tripdata_2020-11.parquet\n",
      "yellow_tripdata_2020-12.parquet\n",
      "yellow_tripdata_2021-01.parquet\n",
      "yellow_tripdata_2021-02.parquet\n",
      "yellow_tripdata_2021-03.parquet\n",
      "yellow_tripdata_2021-04.parquet\n",
      "yellow_tripdata_2021-05.parquet\n",
      "yellow_tripdata_2021-06.parquet\n",
      "yellow_tripdata_2021-07.parquet\n",
      "yellow_tripdata_2021-08.parquet\n",
      "yellow_tripdata_2021-09.parquet\n",
      "yellow_tripdata_2021-10.parquet\n",
      "yellow_tripdata_2021-11.parquet\n",
      "yellow_tripdata_2021-12.parquet\n",
      "yellow_tripdata_2022-01.parquet\n",
      "yellow_tripdata_2022-02.parquet\n",
      "yellow_tripdata_2022-03.parquet\n",
      "yellow_tripdata_2022-04.parquet\n",
      "yellow_tripdata_2022-05.parquet\n",
      "yellow_tripdata_2022-06.parquet\n",
      "yellow_tripdata_2022-07.parquet\n",
      "yellow_tripdata_2022-08.parquet\n",
      "yellow_tripdata_2022-09.parquet\n",
      "yellow_tripdata_2022-10.parquet\n",
      "yellow_tripdata_2022-11.parquet\n",
      "yellow_tripdata_2022-12.parquet\n",
      "yellow_tripdata_2023-01.parquet\n",
      "yellow_tripdata_2023-02.parquet\n",
      "yellow_tripdata_2023-03.parquet\n",
      "yellow_tripdata_2023-04.parquet\n",
      "yellow_tripdata_2023-05.parquet\n",
      "yellow_tripdata_2023-06.parquet\n",
      "yellow_tripdata_2023-07.parquet\n",
      "yellow_tripdata_2023-08.parquet\n",
      "yellow_tripdata_2023-09.parquet\n",
      "yellow_tripdata_2023-10.parquet\n",
      "yellow_tripdata_2023-11.parquet\n",
      "yellow_tripdata_2023-12.parquet\n",
      "yellow_tripdata_2024-01.parquet\n",
      "yellow_tripdata_2024-02.parquet\n",
      "yellow_tripdata_2024-03.parquet\n",
      "yellow_tripdata_2024-04.parquet\n",
      "yellow_tripdata_2024-05.parquet\n",
      "yellow_tripdata_2024-06.parquet\n",
      "yellow_tripdata_2024-07.parquet\n",
      "yellow_tripdata_2024-08.parquet\n",
      "yellow_tripdata_2024-09.parquet\n",
      "yellow_tripdata_2024-10.parquet\n",
      "yellow_tripdata_2024-11.parquet\n",
      "yellow_tripdata_2024-12.parquet\n"
     ]
    }
   ],
   "source": [
    "%sh\n",
    "ls /dbfs/FileStore/tables/Input/yellow/"
   ]
  },
  {
   "cell_type": "markdown",
   "metadata": {
    "application/vnd.databricks.v1+cell": {
     "cellMetadata": {
      "byteLimit": 2048000,
      "rowLimit": 10000
     },
     "inputWidgets": {},
     "nuid": "c5f43c6e-43ca-474e-a2a4-98ef616a641c",
     "showTitle": false,
     "tableResultSettingsMap": {},
     "title": ""
    }
   },
   "source": [
    "# 3. Transform Data (T)\n",
    "\n",
    "## 3.1 Process Location Data\n",
    "\n",
    "Before proceeding with Green Taxi data, let's process the location data from our supporting files:\n",
    "1. Load and clean taxi zone lookup data\n",
    "2. Process latitude/longitude information\n",
    "3. Merge location datasets\n",
    "4. Add location details to taxi trip data\n",
    "\n",
    "This will enrich our taxi data with geographic context."
   ]
  },
  {
   "cell_type": "code",
   "execution_count": 0,
   "metadata": {
    "application/vnd.databricks.v1+cell": {
     "cellMetadata": {
      "byteLimit": 2048000,
      "rowLimit": 10000
     },
     "inputWidgets": {},
     "nuid": "c95c5b84-f641-4af1-b60e-aa35c135fa12",
     "showTitle": false,
     "tableResultSettingsMap": {},
     "title": ""
    }
   },
   "outputs": [
    {
     "name": "stdout",
     "output_type": "stream",
     "text": [
      "\n",
      "Taxi Zone Lookup Data Sample:\n"
     ]
    },
    {
     "data": {
      "text/html": [
       "<style scoped>\n",
       "  .table-result-container {\n",
       "    max-height: 300px;\n",
       "    overflow: auto;\n",
       "  }\n",
       "  table, th, td {\n",
       "    border: 1px solid black;\n",
       "    border-collapse: collapse;\n",
       "  }\n",
       "  th, td {\n",
       "    padding: 5px;\n",
       "  }\n",
       "  th {\n",
       "    text-align: left;\n",
       "  }\n",
       "</style><div class='table-result-container'><table class='table-result'><thead style='background-color: white'><tr><th>LocationID</th><th>Borough</th><th>Zone</th><th>service_zone</th></tr></thead><tbody><tr><td>1</td><td>EWR</td><td>Newark Airport</td><td>EWR</td></tr><tr><td>2</td><td>Queens</td><td>Jamaica Bay</td><td>Boro Zone</td></tr><tr><td>3</td><td>Bronx</td><td>Allerton/Pelham Gardens</td><td>Boro Zone</td></tr><tr><td>4</td><td>Manhattan</td><td>Alphabet City</td><td>Yellow Zone</td></tr><tr><td>5</td><td>Staten Island</td><td>Arden Heights</td><td>Boro Zone</td></tr></tbody></table></div>"
      ]
     },
     "metadata": {
      "application/vnd.databricks.v1+output": {
       "addedWidgets": {},
       "aggData": [],
       "aggError": "",
       "aggOverflow": false,
       "aggSchema": [],
       "aggSeriesLimitReached": false,
       "aggType": "",
       "arguments": {},
       "columnCustomDisplayInfos": {},
       "data": [
        [
         1,
         "EWR",
         "Newark Airport",
         "EWR"
        ],
        [
         2,
         "Queens",
         "Jamaica Bay",
         "Boro Zone"
        ],
        [
         3,
         "Bronx",
         "Allerton/Pelham Gardens",
         "Boro Zone"
        ],
        [
         4,
         "Manhattan",
         "Alphabet City",
         "Yellow Zone"
        ],
        [
         5,
         "Staten Island",
         "Arden Heights",
         "Boro Zone"
        ]
       ],
       "datasetInfos": [],
       "dbfsResultPath": null,
       "isJsonSchema": true,
       "metadata": {},
       "overflow": false,
       "plotOptions": {
        "customPlotOptions": {},
        "displayType": "table",
        "pivotAggregation": null,
        "pivotColumns": null,
        "xColumns": null,
        "yColumns": null
       },
       "removedWidgets": [],
       "schema": [
        {
         "metadata": "{}",
         "name": "LocationID",
         "type": "\"integer\""
        },
        {
         "metadata": "{}",
         "name": "Borough",
         "type": "\"string\""
        },
        {
         "metadata": "{}",
         "name": "Zone",
         "type": "\"string\""
        },
        {
         "metadata": "{}",
         "name": "service_zone",
         "type": "\"string\""
        }
       ],
       "type": "table"
      }
     },
     "output_type": "display_data"
    },
    {
     "name": "stdout",
     "output_type": "stream",
     "text": [
      "\n",
      "Latitude/Longitude Data Sample:\n"
     ]
    },
    {
     "data": {
      "text/html": [
       "<style scoped>\n",
       "  .table-result-container {\n",
       "    max-height: 300px;\n",
       "    overflow: auto;\n",
       "  }\n",
       "  table, th, td {\n",
       "    border: 1px solid black;\n",
       "    border-collapse: collapse;\n",
       "  }\n",
       "  th, td {\n",
       "    padding: 5px;\n",
       "  }\n",
       "  th {\n",
       "    text-align: left;\n",
       "  }\n",
       "</style><div class='table-result-container'><table class='table-result'><thead style='background-color: white'><tr><th>X</th><th>Y</th><th>OBJECTID</th><th>Shape_Leng</th><th>Shape_Area</th><th>zone</th><th>LocationID</th><th>borough</th></tr></thead><tbody><tr><td>-74.1767857452143</td><td>40.6895156480431</td><td>1</td><td>0.116357453189</td><td>7.823067885E-4</td><td>Newark Airport</td><td>1</td><td>EWR</td></tr><tr><td>-73.8261257703202</td><td>40.6257242377511</td><td>2</td><td>0.43346966679</td><td>0.00486634037837</td><td>Jamaica Bay</td><td>2</td><td>Queens</td></tr><tr><td>-73.8494789238597</td><td>40.8658875419774</td><td>3</td><td>0.0843411059012</td><td>3.14414156821E-4</td><td>Allerton/Pelham Gardens</td><td>3</td><td>Bronx</td></tr><tr><td>-73.9770229219339</td><td>40.7241521436714</td><td>4</td><td>0.0435665270921</td><td>1.11871946192E-4</td><td>Alphabet City</td><td>4</td><td>Manhattan</td></tr><tr><td>-74.1899296712375</td><td>40.550340123832</td><td>5</td><td>0.0921464898574</td><td>4.97957489363E-4</td><td>Arden Heights</td><td>5</td><td>Staten Island</td></tr></tbody></table></div>"
      ]
     },
     "metadata": {
      "application/vnd.databricks.v1+output": {
       "addedWidgets": {},
       "aggData": [],
       "aggError": "",
       "aggOverflow": false,
       "aggSchema": [],
       "aggSeriesLimitReached": false,
       "aggType": "",
       "arguments": {},
       "columnCustomDisplayInfos": {},
       "data": [
        [
         -74.1767857452143,
         40.6895156480431,
         1,
         0.116357453189,
         0.0007823067885,
         "Newark Airport",
         1,
         "EWR"
        ],
        [
         -73.8261257703202,
         40.6257242377511,
         2,
         0.43346966679,
         0.00486634037837,
         "Jamaica Bay",
         2,
         "Queens"
        ],
        [
         -73.8494789238597,
         40.8658875419774,
         3,
         0.0843411059012,
         0.000314414156821,
         "Allerton/Pelham Gardens",
         3,
         "Bronx"
        ],
        [
         -73.9770229219339,
         40.7241521436714,
         4,
         0.0435665270921,
         0.000111871946192,
         "Alphabet City",
         4,
         "Manhattan"
        ],
        [
         -74.1899296712375,
         40.550340123832,
         5,
         0.0921464898574,
         0.000497957489363,
         "Arden Heights",
         5,
         "Staten Island"
        ]
       ],
       "datasetInfos": [],
       "dbfsResultPath": null,
       "isJsonSchema": true,
       "metadata": {},
       "overflow": false,
       "plotOptions": {
        "customPlotOptions": {},
        "displayType": "table",
        "pivotAggregation": null,
        "pivotColumns": null,
        "xColumns": null,
        "yColumns": null
       },
       "removedWidgets": [],
       "schema": [
        {
         "metadata": "{}",
         "name": "X",
         "type": "\"double\""
        },
        {
         "metadata": "{}",
         "name": "Y",
         "type": "\"double\""
        },
        {
         "metadata": "{}",
         "name": "OBJECTID",
         "type": "\"integer\""
        },
        {
         "metadata": "{}",
         "name": "Shape_Leng",
         "type": "\"double\""
        },
        {
         "metadata": "{}",
         "name": "Shape_Area",
         "type": "\"double\""
        },
        {
         "metadata": "{}",
         "name": "zone",
         "type": "\"string\""
        },
        {
         "metadata": "{}",
         "name": "LocationID",
         "type": "\"integer\""
        },
        {
         "metadata": "{}",
         "name": "borough",
         "type": "\"string\""
        }
       ],
       "type": "table"
      }
     },
     "output_type": "display_data"
    },
    {
     "name": "stdout",
     "output_type": "stream",
     "text": [
      "\n",
      "Processed Location Data Sample:\n"
     ]
    },
    {
     "data": {
      "text/html": [
       "<style scoped>\n",
       "  .table-result-container {\n",
       "    max-height: 300px;\n",
       "    overflow: auto;\n",
       "  }\n",
       "  table, th, td {\n",
       "    border: 1px solid black;\n",
       "    border-collapse: collapse;\n",
       "  }\n",
       "  th, td {\n",
       "    padding: 5px;\n",
       "  }\n",
       "  th {\n",
       "    text-align: left;\n",
       "  }\n",
       "</style><div class='table-result-container'><table class='table-result'><thead style='background-color: white'><tr><th>LocationID</th><th>Latitude</th><th>Longitude</th><th>Zone</th><th>Borough</th><th>service_zone</th></tr></thead><tbody><tr><td>1</td><td>-74.1767857452143</td><td>40.6895156480431</td><td>Newark Airport</td><td>EWR</td><td>EWR</td></tr><tr><td>2</td><td>-73.8261257703202</td><td>40.6257242377511</td><td>Jamaica Bay</td><td>Queens</td><td>Boro Zone</td></tr><tr><td>3</td><td>-73.8494789238597</td><td>40.8658875419774</td><td>Allerton/Pelham Gardens</td><td>Bronx</td><td>Boro Zone</td></tr><tr><td>4</td><td>-73.9770229219339</td><td>40.7241521436714</td><td>Alphabet City</td><td>Manhattan</td><td>Yellow Zone</td></tr><tr><td>5</td><td>-74.1899296712375</td><td>40.550340123832</td><td>Arden Heights</td><td>Staten Island</td><td>Boro Zone</td></tr></tbody></table></div>"
      ]
     },
     "metadata": {
      "application/vnd.databricks.v1+output": {
       "addedWidgets": {},
       "aggData": [],
       "aggError": "",
       "aggOverflow": false,
       "aggSchema": [],
       "aggSeriesLimitReached": false,
       "aggType": "",
       "arguments": {},
       "columnCustomDisplayInfos": {},
       "data": [
        [
         1,
         -74.1767857452143,
         40.6895156480431,
         "Newark Airport",
         "EWR",
         "EWR"
        ],
        [
         2,
         -73.8261257703202,
         40.6257242377511,
         "Jamaica Bay",
         "Queens",
         "Boro Zone"
        ],
        [
         3,
         -73.8494789238597,
         40.8658875419774,
         "Allerton/Pelham Gardens",
         "Bronx",
         "Boro Zone"
        ],
        [
         4,
         -73.9770229219339,
         40.7241521436714,
         "Alphabet City",
         "Manhattan",
         "Yellow Zone"
        ],
        [
         5,
         -74.1899296712375,
         40.550340123832,
         "Arden Heights",
         "Staten Island",
         "Boro Zone"
        ]
       ],
       "datasetInfos": [],
       "dbfsResultPath": null,
       "isJsonSchema": true,
       "metadata": {},
       "overflow": false,
       "plotOptions": {
        "customPlotOptions": {},
        "displayType": "table",
        "pivotAggregation": null,
        "pivotColumns": null,
        "xColumns": null,
        "yColumns": null
       },
       "removedWidgets": [],
       "schema": [
        {
         "metadata": "{}",
         "name": "LocationID",
         "type": "\"integer\""
        },
        {
         "metadata": "{}",
         "name": "Latitude",
         "type": "\"double\""
        },
        {
         "metadata": "{}",
         "name": "Longitude",
         "type": "\"double\""
        },
        {
         "metadata": "{}",
         "name": "Zone",
         "type": "\"string\""
        },
        {
         "metadata": "{}",
         "name": "Borough",
         "type": "\"string\""
        },
        {
         "metadata": "{}",
         "name": "service_zone",
         "type": "\"string\""
        }
       ],
       "type": "table"
      }
     },
     "output_type": "display_data"
    }
   ],
   "source": [
    "# Load taxi zone lookup data\n",
    "tz_df_S = spark.read.options(header='True', inferSchema='True', delimiter=',').csv(\"/FileStore/tables/Input/taxi_zone_lookup.csv\")\n",
    "print(\"\\nTaxi Zone Lookup Data Sample:\")\n",
    "display(tz_df_S.limit(5))\n",
    "\n",
    "# Load latitude/longitude data\n",
    "tz_latlong_S = spark.read.options(header='True', inferSchema='True', delimiter=',').csv(\"/FileStore/tables/Input/taxi_zones_latlong.csv\")\n",
    "print(\"\\nLatitude/Longitude Data Sample:\")\n",
    "display(tz_latlong_S.limit(5))\n",
    "\n",
    "# Clean and standardize location data\n",
    "# Fix ID mapping and remove unnecessary columns\n",
    "tz_latlong_S = tz_latlong_S.withColumn('LocationID', col('OBJECTID')) \\\n",
    "                           .drop('OBJECTID', 'Shape_Leng', 'Shape_Area')\n",
    "\n",
    "# Standardize column names\n",
    "tz_latlong_S = tz_latlong_S.withColumnRenamed('borough', 'Borough') \\\n",
    "                           .withColumnRenamed('zone', 'Zone') \\\n",
    "                           .withColumnRenamed('X', 'Latitude') \\\n",
    "                           .withColumnRenamed('Y', 'Longitude')\n",
    "\n",
    "# Merge location datasets\n",
    "# Add service zone information to the latitude/longitude data\n",
    "tz_latlong_S = tz_latlong_S.join(\n",
    "    tz_df_S.select('LocationID', 'service_zone'), \n",
    "    on='LocationID', \n",
    "    how='left'\n",
    ")\n",
    "\n",
    "print(\"\\nProcessed Location Data Sample:\")\n",
    "display(tz_latlong_S.limit(5))"
   ]
  },
  {
   "cell_type": "markdown",
   "metadata": {
    "application/vnd.databricks.v1+cell": {
     "cellMetadata": {
      "byteLimit": 2048000,
      "rowLimit": 10000
     },
     "inputWidgets": {},
     "nuid": "70d39e96-e344-40f6-8bcf-792691ec57dc",
     "showTitle": false,
     "tableResultSettingsMap": {},
     "title": ""
    }
   },
   "source": [
    "## 3.2 Transform Yellow Taxi Data\n",
    "\n",
    "In this section, we'll process the Yellow Taxi trip data through these steps:\n",
    "1. Load Parquet files into a Spark DataFrame\n",
    "2. Calculate trip duration\n",
    "3. Clean and standardize vendor information\n",
    "4. Add location details from lookup tables\n",
    "5. Clean and filter invalid records\n",
    "6. Rename columns for consistency\n",
    "\n",
    "Let's start by loading the Yellow Taxi data:"
   ]
  },
  {
   "cell_type": "code",
   "execution_count": 0,
   "metadata": {
    "application/vnd.databricks.v1+cell": {
     "cellMetadata": {
      "byteLimit": 2048000,
      "rowLimit": 10000
     },
     "inputWidgets": {},
     "nuid": "df94045d-0eac-47e7-a58e-73f5624b6973",
     "showTitle": false,
     "tableResultSettingsMap": {},
     "title": ""
    }
   },
   "outputs": [
    {
     "name": "stdout",
     "output_type": "stream",
     "text": [
      "Initial Yellow Taxi Data Summary:\n",
      "Number of Records: 174689444\n",
      "Number of Columns: 19\n"
     ]
    },
    {
     "data": {
      "text/html": [
       "<style scoped>\n",
       "  .table-result-container {\n",
       "    max-height: 300px;\n",
       "    overflow: auto;\n",
       "  }\n",
       "  table, th, td {\n",
       "    border: 1px solid black;\n",
       "    border-collapse: collapse;\n",
       "  }\n",
       "  th, td {\n",
       "    padding: 5px;\n",
       "  }\n",
       "  th {\n",
       "    text-align: left;\n",
       "  }\n",
       "</style><div class='table-result-container'><table class='table-result'><thead style='background-color: white'><tr><th>VendorID</th><th>tpep_pickup_datetime</th><th>tpep_dropoff_datetime</th><th>passenger_count</th><th>trip_distance</th><th>RatecodeID</th><th>store_and_fwd_flag</th><th>PULocationID</th><th>DOLocationID</th><th>payment_type</th><th>fare_amount</th><th>extra</th><th>mta_tax</th><th>tip_amount</th><th>tolls_amount</th><th>improvement_surcharge</th><th>total_amount</th><th>congestion_surcharge</th><th>airport_fee</th></tr></thead><tbody><tr><td>1</td><td>2020-01-01T00:28:15</td><td>2020-01-01T00:33:03</td><td>1.0</td><td>1.2</td><td>1.0</td><td>N</td><td>238</td><td>239</td><td>1</td><td>6.0</td><td>3.0</td><td>0.5</td><td>1.47</td><td>0.0</td><td>0.3</td><td>11.27</td><td>2.5</td><td>null</td></tr><tr><td>1</td><td>2020-01-01T00:35:39</td><td>2020-01-01T00:43:04</td><td>1.0</td><td>1.2</td><td>1.0</td><td>N</td><td>239</td><td>238</td><td>1</td><td>7.0</td><td>3.0</td><td>0.5</td><td>1.5</td><td>0.0</td><td>0.3</td><td>12.3</td><td>2.5</td><td>null</td></tr><tr><td>1</td><td>2020-01-01T00:47:41</td><td>2020-01-01T00:53:52</td><td>1.0</td><td>0.6</td><td>1.0</td><td>N</td><td>238</td><td>238</td><td>1</td><td>6.0</td><td>3.0</td><td>0.5</td><td>1.0</td><td>0.0</td><td>0.3</td><td>10.8</td><td>2.5</td><td>null</td></tr><tr><td>1</td><td>2020-01-01T00:55:23</td><td>2020-01-01T01:00:14</td><td>1.0</td><td>0.8</td><td>1.0</td><td>N</td><td>238</td><td>151</td><td>1</td><td>5.5</td><td>0.5</td><td>0.5</td><td>1.36</td><td>0.0</td><td>0.3</td><td>8.16</td><td>0.0</td><td>null</td></tr><tr><td>2</td><td>2020-01-01T00:01:58</td><td>2020-01-01T00:04:16</td><td>1.0</td><td>0.0</td><td>1.0</td><td>N</td><td>193</td><td>193</td><td>2</td><td>3.5</td><td>0.5</td><td>0.5</td><td>0.0</td><td>0.0</td><td>0.3</td><td>4.8</td><td>0.0</td><td>null</td></tr></tbody></table></div>"
      ]
     },
     "metadata": {
      "application/vnd.databricks.v1+output": {
       "addedWidgets": {},
       "aggData": [],
       "aggError": "",
       "aggOverflow": false,
       "aggSchema": [],
       "aggSeriesLimitReached": false,
       "aggType": "",
       "arguments": {},
       "columnCustomDisplayInfos": {},
       "data": [
        [
         1,
         "2020-01-01T00:28:15",
         "2020-01-01T00:33:03",
         1,
         1.2,
         1,
         "N",
         238,
         239,
         1,
         6,
         3,
         0.5,
         1.47,
         0,
         0.3,
         11.27,
         2.5,
         null
        ],
        [
         1,
         "2020-01-01T00:35:39",
         "2020-01-01T00:43:04",
         1,
         1.2,
         1,
         "N",
         239,
         238,
         1,
         7,
         3,
         0.5,
         1.5,
         0,
         0.3,
         12.3,
         2.5,
         null
        ],
        [
         1,
         "2020-01-01T00:47:41",
         "2020-01-01T00:53:52",
         1,
         0.6,
         1,
         "N",
         238,
         238,
         1,
         6,
         3,
         0.5,
         1,
         0,
         0.3,
         10.8,
         2.5,
         null
        ],
        [
         1,
         "2020-01-01T00:55:23",
         "2020-01-01T01:00:14",
         1,
         0.8,
         1,
         "N",
         238,
         151,
         1,
         5.5,
         0.5,
         0.5,
         1.36,
         0,
         0.3,
         8.16,
         0,
         null
        ],
        [
         2,
         "2020-01-01T00:01:58",
         "2020-01-01T00:04:16",
         1,
         0,
         1,
         "N",
         193,
         193,
         2,
         3.5,
         0.5,
         0.5,
         0,
         0,
         0.3,
         4.8,
         0,
         null
        ]
       ],
       "datasetInfos": [],
       "dbfsResultPath": null,
       "isJsonSchema": true,
       "metadata": {},
       "overflow": false,
       "plotOptions": {
        "customPlotOptions": {},
        "displayType": "table",
        "pivotAggregation": null,
        "pivotColumns": null,
        "xColumns": null,
        "yColumns": null
       },
       "removedWidgets": [],
       "schema": [
        {
         "metadata": "{}",
         "name": "VendorID",
         "type": "\"long\""
        },
        {
         "metadata": "{}",
         "name": "tpep_pickup_datetime",
         "type": "\"timestamp_ntz\""
        },
        {
         "metadata": "{}",
         "name": "tpep_dropoff_datetime",
         "type": "\"timestamp_ntz\""
        },
        {
         "metadata": "{}",
         "name": "passenger_count",
         "type": "\"double\""
        },
        {
         "metadata": "{}",
         "name": "trip_distance",
         "type": "\"double\""
        },
        {
         "metadata": "{}",
         "name": "RatecodeID",
         "type": "\"double\""
        },
        {
         "metadata": "{}",
         "name": "store_and_fwd_flag",
         "type": "\"string\""
        },
        {
         "metadata": "{}",
         "name": "PULocationID",
         "type": "\"long\""
        },
        {
         "metadata": "{}",
         "name": "DOLocationID",
         "type": "\"long\""
        },
        {
         "metadata": "{}",
         "name": "payment_type",
         "type": "\"long\""
        },
        {
         "metadata": "{}",
         "name": "fare_amount",
         "type": "\"double\""
        },
        {
         "metadata": "{}",
         "name": "extra",
         "type": "\"double\""
        },
        {
         "metadata": "{}",
         "name": "mta_tax",
         "type": "\"double\""
        },
        {
         "metadata": "{}",
         "name": "tip_amount",
         "type": "\"double\""
        },
        {
         "metadata": "{}",
         "name": "tolls_amount",
         "type": "\"double\""
        },
        {
         "metadata": "{}",
         "name": "improvement_surcharge",
         "type": "\"double\""
        },
        {
         "metadata": "{}",
         "name": "total_amount",
         "type": "\"double\""
        },
        {
         "metadata": "{}",
         "name": "congestion_surcharge",
         "type": "\"double\""
        },
        {
         "metadata": "{}",
         "name": "airport_fee",
         "type": "\"double\""
        }
       ],
       "type": "table"
      }
     },
     "output_type": "display_data"
    }
   ],
   "source": [
    "# Define paths for Yellow Taxi data\n",
    "directory_path = '/dbfs/FileStore/tables/Input/yellow/'\n",
    "directory_path_2 = '/FileStore/tables/Input/yellow/'\n",
    "\n",
    "# Get list of all Parquet files\n",
    "parquet_files = [file for file in os.listdir(directory_path) if file.endswith(\".parquet\")]\n",
    "\n",
    "# Initialize DataFrame\n",
    "yt_df_S = None\n",
    "\n",
    "# Read and combine all Parquet files\n",
    "for file in parquet_files:\n",
    "    file_path = os.path.join(directory_path_2, file)\n",
    "    df = spark.read.parquet(file_path)\n",
    "    if yt_df_S is None:\n",
    "         yt_df_S = df\n",
    "    else:\n",
    "        # Use unionByName to combine DataFrames with matching column names\n",
    "        yt_df_S = yt_df_S.unionByName(df)\n",
    "\n",
    "# Display initial data\n",
    "print(\"Initial Yellow Taxi Data Summary:\")\n",
    "print(f\"Number of Records: {yt_df_S.count()}\")\n",
    "print(f\"Number of Columns: {len(yt_df_S.columns)}\")\n",
    "display(yt_df_S.limit(5))"
   ]
  },
  {
   "cell_type": "markdown",
   "metadata": {
    "application/vnd.databricks.v1+cell": {
     "cellMetadata": {
      "byteLimit": 2048000,
      "rowLimit": 10000
     },
     "inputWidgets": {},
     "nuid": "4dce7718-66ef-4d16-ba30-d2fa8d529fc6",
     "showTitle": false,
     "tableResultSettingsMap": {},
     "title": ""
    }
   },
   "source": [
    "### Initial Transformations on Yellow Taxi Data"
   ]
  },
  {
   "cell_type": "code",
   "execution_count": 0,
   "metadata": {
    "application/vnd.databricks.v1+cell": {
     "cellMetadata": {
      "byteLimit": 2048000,
      "rowLimit": 10000
     },
     "inputWidgets": {},
     "nuid": "f12e5e92-e54b-477c-9225-239b5a1524f7",
     "showTitle": false,
     "tableResultSettingsMap": {},
     "title": ""
    }
   },
   "outputs": [
    {
     "data": {
      "text/html": [
       "<style scoped>\n",
       "  .table-result-container {\n",
       "    max-height: 300px;\n",
       "    overflow: auto;\n",
       "  }\n",
       "  table, th, td {\n",
       "    border: 1px solid black;\n",
       "    border-collapse: collapse;\n",
       "  }\n",
       "  th, td {\n",
       "    padding: 5px;\n",
       "  }\n",
       "  th {\n",
       "    text-align: left;\n",
       "  }\n",
       "</style><div class='table-result-container'><table class='table-result'><thead style='background-color: white'><tr><th>RecordProviderName</th><th>PickupDatetime</th><th>DropoffDatetime</th><th>passenger_count</th><th>TripDistanceMiles</th><th>RatecodeID</th><th>store_and_fwd_flag</th><th>PULocationID</th><th>DOLocationID</th><th>payment_type</th><th>MeterFareAmount</th><th>extra</th><th>tax</th><th>tip_amount</th><th>tolls_amount</th><th>improvement_surcharge</th><th>total_amount</th><th>congestion_surcharge</th><th>airport_fee</th><th>TripDuration</th></tr></thead><tbody><tr><td>Creative Mobile Technologies</td><td>2020-01-01T00:28:15</td><td>2020-01-01T00:33:03</td><td>1.0</td><td>1.2</td><td>1.0</td><td>N</td><td>238</td><td>239</td><td>1</td><td>6.0</td><td>3.0</td><td>0.5</td><td>1.47</td><td>0.0</td><td>0.3</td><td>11.27</td><td>2.5</td><td>null</td><td>288</td></tr><tr><td>Creative Mobile Technologies</td><td>2020-01-01T00:35:39</td><td>2020-01-01T00:43:04</td><td>1.0</td><td>1.2</td><td>1.0</td><td>N</td><td>239</td><td>238</td><td>1</td><td>7.0</td><td>3.0</td><td>0.5</td><td>1.5</td><td>0.0</td><td>0.3</td><td>12.3</td><td>2.5</td><td>null</td><td>445</td></tr><tr><td>Creative Mobile Technologies</td><td>2020-01-01T00:47:41</td><td>2020-01-01T00:53:52</td><td>1.0</td><td>0.6</td><td>1.0</td><td>N</td><td>238</td><td>238</td><td>1</td><td>6.0</td><td>3.0</td><td>0.5</td><td>1.0</td><td>0.0</td><td>0.3</td><td>10.8</td><td>2.5</td><td>null</td><td>371</td></tr><tr><td>Creative Mobile Technologies</td><td>2020-01-01T00:55:23</td><td>2020-01-01T01:00:14</td><td>1.0</td><td>0.8</td><td>1.0</td><td>N</td><td>238</td><td>151</td><td>1</td><td>5.5</td><td>0.5</td><td>0.5</td><td>1.36</td><td>0.0</td><td>0.3</td><td>8.16</td><td>0.0</td><td>null</td><td>291</td></tr><tr><td>VeriFone Inc.</td><td>2020-01-01T00:01:58</td><td>2020-01-01T00:04:16</td><td>1.0</td><td>0.0</td><td>1.0</td><td>N</td><td>193</td><td>193</td><td>2</td><td>3.5</td><td>0.5</td><td>0.5</td><td>0.0</td><td>0.0</td><td>0.3</td><td>4.8</td><td>0.0</td><td>null</td><td>138</td></tr></tbody></table></div>"
      ]
     },
     "metadata": {
      "application/vnd.databricks.v1+output": {
       "addedWidgets": {},
       "aggData": [],
       "aggError": "",
       "aggOverflow": false,
       "aggSchema": [],
       "aggSeriesLimitReached": false,
       "aggType": "",
       "arguments": {},
       "columnCustomDisplayInfos": {},
       "data": [
        [
         "Creative Mobile Technologies",
         "2020-01-01T00:28:15",
         "2020-01-01T00:33:03",
         1,
         1.2,
         1,
         "N",
         238,
         239,
         1,
         6,
         3,
         0.5,
         1.47,
         0,
         0.3,
         11.27,
         2.5,
         null,
         288
        ],
        [
         "Creative Mobile Technologies",
         "2020-01-01T00:35:39",
         "2020-01-01T00:43:04",
         1,
         1.2,
         1,
         "N",
         239,
         238,
         1,
         7,
         3,
         0.5,
         1.5,
         0,
         0.3,
         12.3,
         2.5,
         null,
         445
        ],
        [
         "Creative Mobile Technologies",
         "2020-01-01T00:47:41",
         "2020-01-01T00:53:52",
         1,
         0.6,
         1,
         "N",
         238,
         238,
         1,
         6,
         3,
         0.5,
         1,
         0,
         0.3,
         10.8,
         2.5,
         null,
         371
        ],
        [
         "Creative Mobile Technologies",
         "2020-01-01T00:55:23",
         "2020-01-01T01:00:14",
         1,
         0.8,
         1,
         "N",
         238,
         151,
         1,
         5.5,
         0.5,
         0.5,
         1.36,
         0,
         0.3,
         8.16,
         0,
         null,
         291
        ],
        [
         "VeriFone Inc.",
         "2020-01-01T00:01:58",
         "2020-01-01T00:04:16",
         1,
         0,
         1,
         "N",
         193,
         193,
         2,
         3.5,
         0.5,
         0.5,
         0,
         0,
         0.3,
         4.8,
         0,
         null,
         138
        ]
       ],
       "datasetInfos": [],
       "dbfsResultPath": null,
       "isJsonSchema": true,
       "metadata": {},
       "overflow": false,
       "plotOptions": {
        "customPlotOptions": {},
        "displayType": "table",
        "pivotAggregation": null,
        "pivotColumns": null,
        "xColumns": null,
        "yColumns": null
       },
       "removedWidgets": [],
       "schema": [
        {
         "metadata": "{}",
         "name": "RecordProviderName",
         "type": "\"string\""
        },
        {
         "metadata": "{}",
         "name": "PickupDatetime",
         "type": "\"timestamp_ntz\""
        },
        {
         "metadata": "{}",
         "name": "DropoffDatetime",
         "type": "\"timestamp_ntz\""
        },
        {
         "metadata": "{}",
         "name": "passenger_count",
         "type": "\"double\""
        },
        {
         "metadata": "{}",
         "name": "TripDistanceMiles",
         "type": "\"double\""
        },
        {
         "metadata": "{}",
         "name": "RatecodeID",
         "type": "\"double\""
        },
        {
         "metadata": "{}",
         "name": "store_and_fwd_flag",
         "type": "\"string\""
        },
        {
         "metadata": "{}",
         "name": "PULocationID",
         "type": "\"long\""
        },
        {
         "metadata": "{}",
         "name": "DOLocationID",
         "type": "\"long\""
        },
        {
         "metadata": "{}",
         "name": "payment_type",
         "type": "\"long\""
        },
        {
         "metadata": "{}",
         "name": "MeterFareAmount",
         "type": "\"double\""
        },
        {
         "metadata": "{}",
         "name": "extra",
         "type": "\"double\""
        },
        {
         "metadata": "{}",
         "name": "tax",
         "type": "\"double\""
        },
        {
         "metadata": "{}",
         "name": "tip_amount",
         "type": "\"double\""
        },
        {
         "metadata": "{}",
         "name": "tolls_amount",
         "type": "\"double\""
        },
        {
         "metadata": "{}",
         "name": "improvement_surcharge",
         "type": "\"double\""
        },
        {
         "metadata": "{}",
         "name": "total_amount",
         "type": "\"double\""
        },
        {
         "metadata": "{}",
         "name": "congestion_surcharge",
         "type": "\"double\""
        },
        {
         "metadata": "{}",
         "name": "airport_fee",
         "type": "\"double\""
        },
        {
         "metadata": "{}",
         "name": "TripDuration",
         "type": "\"long\""
        }
       ],
       "type": "table"
      }
     },
     "output_type": "display_data"
    }
   ],
   "source": [
    "# Calculate Trip Duration (in seconds)\n",
    "yt_df_S = yt_df_S.withColumn(\"TripDuration\", \n",
    "    unix_timestamp(\"tpep_dropoff_datetime\") - unix_timestamp(\"tpep_pickup_datetime\"))\n",
    "\n",
    "# Clean Vendor Information\n",
    "yt_df_S = yt_df_S.withColumn(\"VendorID\", \n",
    "    when(col(\"VendorID\") == 1, \"Creative Mobile Technologies\")\n",
    "    .when(col(\"VendorID\") == 2, \"VeriFone Inc.\")\n",
    "    .otherwise(col(\"VendorID\")))\n",
    "\n",
    "# Standardize column names\n",
    "yt_df_S = yt_df_S.withColumnRenamed('VendorID', 'RecordProviderName') \\\n",
    "                 .withColumnRenamed('tpep_pickup_datetime', 'PickupDatetime') \\\n",
    "                 .withColumnRenamed('tpep_dropoff_datetime', 'DropoffDatetime') \\\n",
    "                 .withColumnRenamed('trip_distance', 'TripDistanceMiles') \\\n",
    "                 .withColumnRenamed('fare_amount', 'MeterFareAmount') \\\n",
    "                 .withColumnRenamed('mta_tax', 'tax')\n",
    "\n",
    "# Display sample of transformed data\n",
    "display(yt_df_S.limit(5))"
   ]
  },
  {
   "cell_type": "markdown",
   "metadata": {
    "application/vnd.databricks.v1+cell": {
     "cellMetadata": {
      "byteLimit": 2048000,
      "rowLimit": 10000
     },
     "inputWidgets": {},
     "nuid": "e046dc23-d801-4087-9138-ba561a7ff158",
     "showTitle": false,
     "tableResultSettingsMap": {},
     "title": ""
    }
   },
   "source": [
    "### Add Location Details to Yellow Taxi Data"
   ]
  },
  {
   "cell_type": "code",
   "execution_count": 0,
   "metadata": {
    "application/vnd.databricks.v1+cell": {
     "cellMetadata": {
      "byteLimit": 2048000,
      "rowLimit": 10000
     },
     "inputWidgets": {},
     "nuid": "479400ac-f854-4321-bfbb-5190eccc9dff",
     "showTitle": false,
     "tableResultSettingsMap": {},
     "title": ""
    }
   },
   "outputs": [
    {
     "data": {
      "text/html": [
       "<style scoped>\n",
       "  .table-result-container {\n",
       "    max-height: 300px;\n",
       "    overflow: auto;\n",
       "  }\n",
       "  table, th, td {\n",
       "    border: 1px solid black;\n",
       "    border-collapse: collapse;\n",
       "  }\n",
       "  th, td {\n",
       "    padding: 5px;\n",
       "  }\n",
       "  th {\n",
       "    text-align: left;\n",
       "  }\n",
       "</style><div class='table-result-container'><table class='table-result'><thead style='background-color: white'><tr><th>RecordProviderName</th><th>PickupDatetime</th><th>DropoffDatetime</th><th>passenger_count</th><th>TripDistanceMiles</th><th>RatecodeID</th><th>store_and_fwd_flag</th><th>PULocationID</th><th>DOLocationID</th><th>payment_type</th><th>MeterFareAmount</th><th>extra</th><th>tax</th><th>tip_amount</th><th>tolls_amount</th><th>improvement_surcharge</th><th>total_amount</th><th>congestion_surcharge</th><th>airport_fee</th><th>TripDuration</th><th>PickupBorough</th><th>PickupZone</th><th>PickupServiceZone</th><th>PULatitude</th><th>PULongitude</th><th>DropoffBorough</th><th>DropoffZone</th><th>DropoffServiceZone</th><th>DOLatitude</th><th>DOLongitude</th></tr></thead><tbody><tr><td>Creative Mobile Technologies</td><td>2020-01-01T00:28:15</td><td>2020-01-01T00:33:03</td><td>1.0</td><td>1.2</td><td>1.0</td><td>N</td><td>238</td><td>239</td><td>1</td><td>6.0</td><td>3.0</td><td>0.5</td><td>1.47</td><td>0.0</td><td>0.3</td><td>11.27</td><td>2.5</td><td>null</td><td>288</td><td>Manhattan</td><td>Upper West Side North</td><td>Yellow Zone</td><td>-73.9728145174503</td><td>40.7917662467824</td><td>Manhattan</td><td>Upper West Side South</td><td>Yellow Zone</td><td>-73.9782733418486</td><td>40.7841073645538</td></tr><tr><td>Creative Mobile Technologies</td><td>2020-01-01T00:35:39</td><td>2020-01-01T00:43:04</td><td>1.0</td><td>1.2</td><td>1.0</td><td>N</td><td>239</td><td>238</td><td>1</td><td>7.0</td><td>3.0</td><td>0.5</td><td>1.5</td><td>0.0</td><td>0.3</td><td>12.3</td><td>2.5</td><td>null</td><td>445</td><td>Manhattan</td><td>Upper West Side South</td><td>Yellow Zone</td><td>-73.9782733418486</td><td>40.7841073645538</td><td>Manhattan</td><td>Upper West Side North</td><td>Yellow Zone</td><td>-73.9728145174503</td><td>40.7917662467824</td></tr><tr><td>Creative Mobile Technologies</td><td>2020-01-01T00:47:41</td><td>2020-01-01T00:53:52</td><td>1.0</td><td>0.6</td><td>1.0</td><td>N</td><td>238</td><td>238</td><td>1</td><td>6.0</td><td>3.0</td><td>0.5</td><td>1.0</td><td>0.0</td><td>0.3</td><td>10.8</td><td>2.5</td><td>null</td><td>371</td><td>Manhattan</td><td>Upper West Side North</td><td>Yellow Zone</td><td>-73.9728145174503</td><td>40.7917662467824</td><td>Manhattan</td><td>Upper West Side North</td><td>Yellow Zone</td><td>-73.9728145174503</td><td>40.7917662467824</td></tr><tr><td>Creative Mobile Technologies</td><td>2020-01-01T00:55:23</td><td>2020-01-01T01:00:14</td><td>1.0</td><td>0.8</td><td>1.0</td><td>N</td><td>238</td><td>151</td><td>1</td><td>5.5</td><td>0.5</td><td>0.5</td><td>1.36</td><td>0.0</td><td>0.3</td><td>8.16</td><td>0.0</td><td>null</td><td>291</td><td>Manhattan</td><td>Upper West Side North</td><td>Yellow Zone</td><td>-73.9728145174503</td><td>40.7917662467824</td><td>Manhattan</td><td>Manhattan Valley</td><td>Yellow Zone</td><td>-73.9678083909732</td><td>40.797866268004</td></tr><tr><td>VeriFone Inc.</td><td>2020-01-01T00:01:58</td><td>2020-01-01T00:04:16</td><td>1.0</td><td>0.0</td><td>1.0</td><td>N</td><td>193</td><td>193</td><td>2</td><td>3.5</td><td>0.5</td><td>0.5</td><td>0.0</td><td>0.0</td><td>0.3</td><td>4.8</td><td>0.0</td><td>null</td><td>138</td><td>Queens</td><td>Queensbridge/Ravenswood</td><td>Boro Zone</td><td>-73.9402863033051</td><td>40.7617244307638</td><td>Queens</td><td>Queensbridge/Ravenswood</td><td>Boro Zone</td><td>-73.9402863033051</td><td>40.7617244307638</td></tr></tbody></table></div>"
      ]
     },
     "metadata": {
      "application/vnd.databricks.v1+output": {
       "addedWidgets": {},
       "aggData": [],
       "aggError": "",
       "aggOverflow": false,
       "aggSchema": [],
       "aggSeriesLimitReached": false,
       "aggType": "",
       "arguments": {},
       "columnCustomDisplayInfos": {},
       "data": [
        [
         "Creative Mobile Technologies",
         "2020-01-01T00:28:15",
         "2020-01-01T00:33:03",
         1,
         1.2,
         1,
         "N",
         238,
         239,
         1,
         6,
         3,
         0.5,
         1.47,
         0,
         0.3,
         11.27,
         2.5,
         null,
         288,
         "Manhattan",
         "Upper West Side North",
         "Yellow Zone",
         -73.9728145174503,
         40.7917662467824,
         "Manhattan",
         "Upper West Side South",
         "Yellow Zone",
         -73.9782733418486,
         40.7841073645538
        ],
        [
         "Creative Mobile Technologies",
         "2020-01-01T00:35:39",
         "2020-01-01T00:43:04",
         1,
         1.2,
         1,
         "N",
         239,
         238,
         1,
         7,
         3,
         0.5,
         1.5,
         0,
         0.3,
         12.3,
         2.5,
         null,
         445,
         "Manhattan",
         "Upper West Side South",
         "Yellow Zone",
         -73.9782733418486,
         40.7841073645538,
         "Manhattan",
         "Upper West Side North",
         "Yellow Zone",
         -73.9728145174503,
         40.7917662467824
        ],
        [
         "Creative Mobile Technologies",
         "2020-01-01T00:47:41",
         "2020-01-01T00:53:52",
         1,
         0.6,
         1,
         "N",
         238,
         238,
         1,
         6,
         3,
         0.5,
         1,
         0,
         0.3,
         10.8,
         2.5,
         null,
         371,
         "Manhattan",
         "Upper West Side North",
         "Yellow Zone",
         -73.9728145174503,
         40.7917662467824,
         "Manhattan",
         "Upper West Side North",
         "Yellow Zone",
         -73.9728145174503,
         40.7917662467824
        ],
        [
         "Creative Mobile Technologies",
         "2020-01-01T00:55:23",
         "2020-01-01T01:00:14",
         1,
         0.8,
         1,
         "N",
         238,
         151,
         1,
         5.5,
         0.5,
         0.5,
         1.36,
         0,
         0.3,
         8.16,
         0,
         null,
         291,
         "Manhattan",
         "Upper West Side North",
         "Yellow Zone",
         -73.9728145174503,
         40.7917662467824,
         "Manhattan",
         "Manhattan Valley",
         "Yellow Zone",
         -73.9678083909732,
         40.797866268004
        ],
        [
         "VeriFone Inc.",
         "2020-01-01T00:01:58",
         "2020-01-01T00:04:16",
         1,
         0,
         1,
         "N",
         193,
         193,
         2,
         3.5,
         0.5,
         0.5,
         0,
         0,
         0.3,
         4.8,
         0,
         null,
         138,
         "Queens",
         "Queensbridge/Ravenswood",
         "Boro Zone",
         -73.9402863033051,
         40.7617244307638,
         "Queens",
         "Queensbridge/Ravenswood",
         "Boro Zone",
         -73.9402863033051,
         40.7617244307638
        ]
       ],
       "datasetInfos": [],
       "dbfsResultPath": null,
       "isJsonSchema": true,
       "metadata": {},
       "overflow": false,
       "plotOptions": {
        "customPlotOptions": {},
        "displayType": "table",
        "pivotAggregation": null,
        "pivotColumns": null,
        "xColumns": null,
        "yColumns": null
       },
       "removedWidgets": [],
       "schema": [
        {
         "metadata": "{}",
         "name": "RecordProviderName",
         "type": "\"string\""
        },
        {
         "metadata": "{}",
         "name": "PickupDatetime",
         "type": "\"timestamp_ntz\""
        },
        {
         "metadata": "{}",
         "name": "DropoffDatetime",
         "type": "\"timestamp_ntz\""
        },
        {
         "metadata": "{}",
         "name": "passenger_count",
         "type": "\"double\""
        },
        {
         "metadata": "{}",
         "name": "TripDistanceMiles",
         "type": "\"double\""
        },
        {
         "metadata": "{}",
         "name": "RatecodeID",
         "type": "\"double\""
        },
        {
         "metadata": "{}",
         "name": "store_and_fwd_flag",
         "type": "\"string\""
        },
        {
         "metadata": "{}",
         "name": "PULocationID",
         "type": "\"long\""
        },
        {
         "metadata": "{}",
         "name": "DOLocationID",
         "type": "\"long\""
        },
        {
         "metadata": "{}",
         "name": "payment_type",
         "type": "\"long\""
        },
        {
         "metadata": "{}",
         "name": "MeterFareAmount",
         "type": "\"double\""
        },
        {
         "metadata": "{}",
         "name": "extra",
         "type": "\"double\""
        },
        {
         "metadata": "{}",
         "name": "tax",
         "type": "\"double\""
        },
        {
         "metadata": "{}",
         "name": "tip_amount",
         "type": "\"double\""
        },
        {
         "metadata": "{}",
         "name": "tolls_amount",
         "type": "\"double\""
        },
        {
         "metadata": "{}",
         "name": "improvement_surcharge",
         "type": "\"double\""
        },
        {
         "metadata": "{}",
         "name": "total_amount",
         "type": "\"double\""
        },
        {
         "metadata": "{}",
         "name": "congestion_surcharge",
         "type": "\"double\""
        },
        {
         "metadata": "{}",
         "name": "airport_fee",
         "type": "\"double\""
        },
        {
         "metadata": "{}",
         "name": "TripDuration",
         "type": "\"long\""
        },
        {
         "metadata": "{}",
         "name": "PickupBorough",
         "type": "\"string\""
        },
        {
         "metadata": "{}",
         "name": "PickupZone",
         "type": "\"string\""
        },
        {
         "metadata": "{}",
         "name": "PickupServiceZone",
         "type": "\"string\""
        },
        {
         "metadata": "{}",
         "name": "PULatitude",
         "type": "\"double\""
        },
        {
         "metadata": "{}",
         "name": "PULongitude",
         "type": "\"double\""
        },
        {
         "metadata": "{}",
         "name": "DropoffBorough",
         "type": "\"string\""
        },
        {
         "metadata": "{}",
         "name": "DropoffZone",
         "type": "\"string\""
        },
        {
         "metadata": "{}",
         "name": "DropoffServiceZone",
         "type": "\"string\""
        },
        {
         "metadata": "{}",
         "name": "DOLatitude",
         "type": "\"double\""
        },
        {
         "metadata": "{}",
         "name": "DOLongitude",
         "type": "\"double\""
        }
       ],
       "type": "table"
      }
     },
     "output_type": "display_data"
    }
   ],
   "source": [
    "# Add pickup location details\n",
    "yt_df_S = yt_df_S.join(\n",
    "    tz_latlong_S.select('LocationID', 'Borough', 'Zone', 'service_zone', 'Latitude', 'Longitude')\n",
    "                .withColumnRenamed('Borough', 'PickupBorough')\n",
    "                .withColumnRenamed('Zone', 'PickupZone')\n",
    "                .withColumnRenamed('service_zone', 'PickupServiceZone')\n",
    "                .withColumnRenamed('Latitude', 'PULatitude')\n",
    "                .withColumnRenamed('Longitude', 'PULongitude'),\n",
    "    col('PULocationID') == col('LocationID'),\n",
    "    'left'\n",
    ").drop('LocationID')\n",
    "\n",
    "# Add dropoff location details\n",
    "yt_df_S = yt_df_S.join(\n",
    "    tz_latlong_S.select('LocationID', 'Borough', 'Zone', 'service_zone', 'Latitude', 'Longitude')\n",
    "                .withColumnRenamed('Borough', 'DropoffBorough')\n",
    "                .withColumnRenamed('Zone', 'DropoffZone')\n",
    "                .withColumnRenamed('service_zone', 'DropoffServiceZone')\n",
    "                .withColumnRenamed('Latitude', 'DOLatitude')\n",
    "                .withColumnRenamed('Longitude', 'DOLongitude'),\n",
    "    col('DOLocationID') == col('LocationID'),\n",
    "    'left'\n",
    ").drop('LocationID')\n",
    "\n",
    "display(yt_df_S.limit(5))"
   ]
  },
  {
   "cell_type": "markdown",
   "metadata": {
    "application/vnd.databricks.v1+cell": {
     "cellMetadata": {
      "byteLimit": 2048000,
      "rowLimit": 10000
     },
     "inputWidgets": {},
     "nuid": "e264aa0d-feff-427c-b8bf-8b1bbb3a9e02",
     "showTitle": false,
     "tableResultSettingsMap": {},
     "title": ""
    }
   },
   "source": [
    "### Data Cleaning for Yellow Taxi Data\n",
    "\n",
    "Now we'll clean the data by removing invalid records:\n",
    "1. Remove trips with zero or negative distance\n",
    "2. Remove trips with duration less than 10 seconds\n",
    "3. Remove trips with invalid location IDs\n",
    "4. Handle disputed payments"
   ]
  },
  {
   "cell_type": "code",
   "execution_count": 0,
   "metadata": {
    "application/vnd.databricks.v1+cell": {
     "cellMetadata": {
      "byteLimit": 2048000,
      "rowLimit": 10000
     },
     "inputWidgets": {},
     "nuid": "2c6012cd-8733-4a23-aa8a-c98f5c46f870",
     "showTitle": false,
     "tableResultSettingsMap": {},
     "title": ""
    }
   },
   "outputs": [
    {
     "name": "stdout",
     "output_type": "stream",
     "text": [
      "Processed Yellow Taxi Data Summary:\n",
      "Number of Records: 168518626\n",
      "Number of Columns: 28\n"
     ]
    },
    {
     "data": {
      "text/html": [
       "<style scoped>\n",
       "  .table-result-container {\n",
       "    max-height: 300px;\n",
       "    overflow: auto;\n",
       "  }\n",
       "  table, th, td {\n",
       "    border: 1px solid black;\n",
       "    border-collapse: collapse;\n",
       "  }\n",
       "  th, td {\n",
       "    padding: 5px;\n",
       "  }\n",
       "  th {\n",
       "    text-align: left;\n",
       "  }\n",
       "</style><div class='table-result-container'><table class='table-result'><thead style='background-color: white'><tr><th>RecordProviderName</th><th>PickupDatetime</th><th>DropoffDatetime</th><th>passenger_count</th><th>TripDistanceMiles</th><th>RatecodeID</th><th>PULocationID</th><th>DOLocationID</th><th>payment_type</th><th>MeterFareAmount</th><th>extra</th><th>tax</th><th>tip_amount</th><th>tolls_amount</th><th>total_amount</th><th>congestion_surcharge</th><th>TripDuration</th><th>PickupBorough</th><th>PickupZone</th><th>PickupServiceZone</th><th>PULatitude</th><th>PULongitude</th><th>DropoffBorough</th><th>DropoffZone</th><th>DropoffServiceZone</th><th>DOLatitude</th><th>DOLongitude</th><th>RideType</th></tr></thead><tbody><tr><td>Creative Mobile Technologies</td><td>2020-01-01T00:28:15</td><td>2020-01-01T00:33:03</td><td>1.0</td><td>1.2</td><td>1.0</td><td>238</td><td>239</td><td>1</td><td>6.0</td><td>3.0</td><td>0.5</td><td>1.47</td><td>0.0</td><td>11.27</td><td>2.5</td><td>288</td><td>Manhattan</td><td>Upper West Side North</td><td>Yellow Zone</td><td>-73.9728145174503</td><td>40.7917662467824</td><td>Manhattan</td><td>Upper West Side South</td><td>Yellow Zone</td><td>-73.9782733418486</td><td>40.7841073645538</td><td>Yellow Taxi</td></tr><tr><td>Creative Mobile Technologies</td><td>2020-01-01T00:35:39</td><td>2020-01-01T00:43:04</td><td>1.0</td><td>1.2</td><td>1.0</td><td>239</td><td>238</td><td>1</td><td>7.0</td><td>3.0</td><td>0.5</td><td>1.5</td><td>0.0</td><td>12.3</td><td>2.5</td><td>445</td><td>Manhattan</td><td>Upper West Side South</td><td>Yellow Zone</td><td>-73.9782733418486</td><td>40.7841073645538</td><td>Manhattan</td><td>Upper West Side North</td><td>Yellow Zone</td><td>-73.9728145174503</td><td>40.7917662467824</td><td>Yellow Taxi</td></tr><tr><td>Creative Mobile Technologies</td><td>2020-01-01T00:47:41</td><td>2020-01-01T00:53:52</td><td>1.0</td><td>0.6</td><td>1.0</td><td>238</td><td>238</td><td>1</td><td>6.0</td><td>3.0</td><td>0.5</td><td>1.0</td><td>0.0</td><td>10.8</td><td>2.5</td><td>371</td><td>Manhattan</td><td>Upper West Side North</td><td>Yellow Zone</td><td>-73.9728145174503</td><td>40.7917662467824</td><td>Manhattan</td><td>Upper West Side North</td><td>Yellow Zone</td><td>-73.9728145174503</td><td>40.7917662467824</td><td>Yellow Taxi</td></tr><tr><td>Creative Mobile Technologies</td><td>2020-01-01T00:55:23</td><td>2020-01-01T01:00:14</td><td>1.0</td><td>0.8</td><td>1.0</td><td>238</td><td>151</td><td>1</td><td>5.5</td><td>0.5</td><td>0.5</td><td>1.36</td><td>0.0</td><td>8.16</td><td>0.0</td><td>291</td><td>Manhattan</td><td>Upper West Side North</td><td>Yellow Zone</td><td>-73.9728145174503</td><td>40.7917662467824</td><td>Manhattan</td><td>Manhattan Valley</td><td>Yellow Zone</td><td>-73.9678083909732</td><td>40.797866268004</td><td>Yellow Taxi</td></tr><tr><td>VeriFone Inc.</td><td>2020-01-01T00:09:44</td><td>2020-01-01T00:10:37</td><td>1.0</td><td>0.03</td><td>1.0</td><td>7</td><td>193</td><td>2</td><td>2.5</td><td>0.5</td><td>0.5</td><td>0.0</td><td>0.0</td><td>3.8</td><td>0.0</td><td>53</td><td>Queens</td><td>Astoria</td><td>Boro Zone</td><td>-73.9214905669465</td><td>40.761084729151</td><td>Queens</td><td>Queensbridge/Ravenswood</td><td>Boro Zone</td><td>-73.9402863033051</td><td>40.7617244307638</td><td>Yellow Taxi</td></tr></tbody></table></div>"
      ]
     },
     "metadata": {
      "application/vnd.databricks.v1+output": {
       "addedWidgets": {},
       "aggData": [],
       "aggError": "",
       "aggOverflow": false,
       "aggSchema": [],
       "aggSeriesLimitReached": false,
       "aggType": "",
       "arguments": {},
       "columnCustomDisplayInfos": {},
       "data": [
        [
         "Creative Mobile Technologies",
         "2020-01-01T00:28:15",
         "2020-01-01T00:33:03",
         1,
         1.2,
         1,
         238,
         239,
         1,
         6,
         3,
         0.5,
         1.47,
         0,
         11.27,
         2.5,
         288,
         "Manhattan",
         "Upper West Side North",
         "Yellow Zone",
         -73.9728145174503,
         40.7917662467824,
         "Manhattan",
         "Upper West Side South",
         "Yellow Zone",
         -73.9782733418486,
         40.7841073645538,
         "Yellow Taxi"
        ],
        [
         "Creative Mobile Technologies",
         "2020-01-01T00:35:39",
         "2020-01-01T00:43:04",
         1,
         1.2,
         1,
         239,
         238,
         1,
         7,
         3,
         0.5,
         1.5,
         0,
         12.3,
         2.5,
         445,
         "Manhattan",
         "Upper West Side South",
         "Yellow Zone",
         -73.9782733418486,
         40.7841073645538,
         "Manhattan",
         "Upper West Side North",
         "Yellow Zone",
         -73.9728145174503,
         40.7917662467824,
         "Yellow Taxi"
        ],
        [
         "Creative Mobile Technologies",
         "2020-01-01T00:47:41",
         "2020-01-01T00:53:52",
         1,
         0.6,
         1,
         238,
         238,
         1,
         6,
         3,
         0.5,
         1,
         0,
         10.8,
         2.5,
         371,
         "Manhattan",
         "Upper West Side North",
         "Yellow Zone",
         -73.9728145174503,
         40.7917662467824,
         "Manhattan",
         "Upper West Side North",
         "Yellow Zone",
         -73.9728145174503,
         40.7917662467824,
         "Yellow Taxi"
        ],
        [
         "Creative Mobile Technologies",
         "2020-01-01T00:55:23",
         "2020-01-01T01:00:14",
         1,
         0.8,
         1,
         238,
         151,
         1,
         5.5,
         0.5,
         0.5,
         1.36,
         0,
         8.16,
         0,
         291,
         "Manhattan",
         "Upper West Side North",
         "Yellow Zone",
         -73.9728145174503,
         40.7917662467824,
         "Manhattan",
         "Manhattan Valley",
         "Yellow Zone",
         -73.9678083909732,
         40.797866268004,
         "Yellow Taxi"
        ],
        [
         "VeriFone Inc.",
         "2020-01-01T00:09:44",
         "2020-01-01T00:10:37",
         1,
         0.03,
         1,
         7,
         193,
         2,
         2.5,
         0.5,
         0.5,
         0,
         0,
         3.8,
         0,
         53,
         "Queens",
         "Astoria",
         "Boro Zone",
         -73.9214905669465,
         40.761084729151,
         "Queens",
         "Queensbridge/Ravenswood",
         "Boro Zone",
         -73.9402863033051,
         40.7617244307638,
         "Yellow Taxi"
        ]
       ],
       "datasetInfos": [],
       "dbfsResultPath": null,
       "isJsonSchema": true,
       "metadata": {},
       "overflow": false,
       "plotOptions": {
        "customPlotOptions": {},
        "displayType": "table",
        "pivotAggregation": null,
        "pivotColumns": null,
        "xColumns": null,
        "yColumns": null
       },
       "removedWidgets": [],
       "schema": [
        {
         "metadata": "{}",
         "name": "RecordProviderName",
         "type": "\"string\""
        },
        {
         "metadata": "{}",
         "name": "PickupDatetime",
         "type": "\"timestamp_ntz\""
        },
        {
         "metadata": "{}",
         "name": "DropoffDatetime",
         "type": "\"timestamp_ntz\""
        },
        {
         "metadata": "{}",
         "name": "passenger_count",
         "type": "\"double\""
        },
        {
         "metadata": "{}",
         "name": "TripDistanceMiles",
         "type": "\"double\""
        },
        {
         "metadata": "{}",
         "name": "RatecodeID",
         "type": "\"double\""
        },
        {
         "metadata": "{}",
         "name": "PULocationID",
         "type": "\"long\""
        },
        {
         "metadata": "{}",
         "name": "DOLocationID",
         "type": "\"long\""
        },
        {
         "metadata": "{}",
         "name": "payment_type",
         "type": "\"long\""
        },
        {
         "metadata": "{}",
         "name": "MeterFareAmount",
         "type": "\"double\""
        },
        {
         "metadata": "{}",
         "name": "extra",
         "type": "\"double\""
        },
        {
         "metadata": "{}",
         "name": "tax",
         "type": "\"double\""
        },
        {
         "metadata": "{}",
         "name": "tip_amount",
         "type": "\"double\""
        },
        {
         "metadata": "{}",
         "name": "tolls_amount",
         "type": "\"double\""
        },
        {
         "metadata": "{}",
         "name": "total_amount",
         "type": "\"double\""
        },
        {
         "metadata": "{}",
         "name": "congestion_surcharge",
         "type": "\"double\""
        },
        {
         "metadata": "{}",
         "name": "TripDuration",
         "type": "\"long\""
        },
        {
         "metadata": "{}",
         "name": "PickupBorough",
         "type": "\"string\""
        },
        {
         "metadata": "{}",
         "name": "PickupZone",
         "type": "\"string\""
        },
        {
         "metadata": "{}",
         "name": "PickupServiceZone",
         "type": "\"string\""
        },
        {
         "metadata": "{}",
         "name": "PULatitude",
         "type": "\"double\""
        },
        {
         "metadata": "{}",
         "name": "PULongitude",
         "type": "\"double\""
        },
        {
         "metadata": "{}",
         "name": "DropoffBorough",
         "type": "\"string\""
        },
        {
         "metadata": "{}",
         "name": "DropoffZone",
         "type": "\"string\""
        },
        {
         "metadata": "{}",
         "name": "DropoffServiceZone",
         "type": "\"string\""
        },
        {
         "metadata": "{}",
         "name": "DOLatitude",
         "type": "\"double\""
        },
        {
         "metadata": "{}",
         "name": "DOLongitude",
         "type": "\"double\""
        },
        {
         "metadata": "{}",
         "name": "RideType",
         "type": "\"string\""
        }
       ],
       "type": "table"
      }
     },
     "output_type": "display_data"
    }
   ],
   "source": [
    "# Remove trips with zero or negative distance\n",
    "yt_df_S = yt_df_S.filter(yt_df_S['TripDistanceMiles'] > 0)\n",
    "\n",
    "# Remove trips with very short duration (less than 10 seconds)\n",
    "yt_df_S = yt_df_S.filter(yt_df_S[\"TripDuration\"] >= 10)\n",
    "\n",
    "# Remove trips with invalid location IDs (valid range: 1-263)\n",
    "yt_df_S = yt_df_S.filter(\n",
    "    (col('PULocationID') >= 1) & (col('PULocationID') <= 263) &\n",
    "    (col('DOLocationID') >= 1) & (col('DOLocationID') <= 263)\n",
    ")\n",
    "\n",
    "# Handle disputed payment records (remove negative duplicates)\n",
    "yt_df_S = yt_df_S.filter(~((col('total_amount') < 0) & (col('payment_type') == 4)))\n",
    "\n",
    "# Drop unnecessary columns\n",
    "yt_df_S = yt_df_S.drop('store_and_fwd_flag', 'NoOfPassengers', 'FareType', 'PaymentType', 'improvement_surcharge', 'airport_fee')\n",
    "\n",
    "# Add ride type identifier\n",
    "yt_df_S = yt_df_S.withColumn(\"RideType\", lit(\"Yellow Taxi\"))\n",
    "\n",
    "# Display processed data\n",
    "print(\"Processed Yellow Taxi Data Summary:\")\n",
    "print(f\"Number of Records: {yt_df_S.count()}\")\n",
    "print(f\"Number of Columns: {len(yt_df_S.columns)}\")\n",
    "display(yt_df_S.limit(5))"
   ]
  },
  {
   "cell_type": "markdown",
   "metadata": {
    "application/vnd.databricks.v1+cell": {
     "cellMetadata": {
      "byteLimit": 2048000,
      "rowLimit": 10000
     },
     "inputWidgets": {},
     "nuid": "d6acb478-72ef-4630-8dd1-d9886a3347a4",
     "showTitle": false,
     "tableResultSettingsMap": {},
     "title": ""
    }
   },
   "source": [
    "## 3.3 Transform Green Taxi Data\n",
    "\n",
    "Now we'll apply similar transformations to the Green Taxi data. We'll follow the same steps:\n",
    "1. Load the data\n",
    "2. Apply transformations\n",
    "3. Clean invalid records\n",
    "\n",
    "The process is similar to Yellow Taxi data, but we need to handle some Green Taxi specific fields."
   ]
  },
  {
   "cell_type": "code",
   "execution_count": 0,
   "metadata": {
    "application/vnd.databricks.v1+cell": {
     "cellMetadata": {
      "byteLimit": 2048000,
      "rowLimit": 10000
     },
     "inputWidgets": {},
     "nuid": "ba8b41b3-bae4-4739-a191-cce75fcfa150",
     "showTitle": false,
     "tableResultSettingsMap": {},
     "title": ""
    }
   },
   "outputs": [
    {
     "name": "stdout",
     "output_type": "stream",
     "text": [
      "Initial Green Taxi Data Summary:\n",
      "Number of Records: 5090611\n",
      "Number of Columns: 20\n"
     ]
    },
    {
     "data": {
      "text/html": [
       "<style scoped>\n",
       "  .table-result-container {\n",
       "    max-height: 300px;\n",
       "    overflow: auto;\n",
       "  }\n",
       "  table, th, td {\n",
       "    border: 1px solid black;\n",
       "    border-collapse: collapse;\n",
       "  }\n",
       "  th, td {\n",
       "    padding: 5px;\n",
       "  }\n",
       "  th {\n",
       "    text-align: left;\n",
       "  }\n",
       "</style><div class='table-result-container'><table class='table-result'><thead style='background-color: white'><tr><th>VendorID</th><th>lpep_pickup_datetime</th><th>lpep_dropoff_datetime</th><th>store_and_fwd_flag</th><th>RatecodeID</th><th>PULocationID</th><th>DOLocationID</th><th>passenger_count</th><th>trip_distance</th><th>fare_amount</th><th>extra</th><th>mta_tax</th><th>tip_amount</th><th>tolls_amount</th><th>ehail_fee</th><th>improvement_surcharge</th><th>total_amount</th><th>payment_type</th><th>trip_type</th><th>congestion_surcharge</th></tr></thead><tbody><tr><td>2</td><td>2019-12-18T15:52:30</td><td>2019-12-18T15:54:39</td><td>N</td><td>1.0</td><td>264</td><td>264</td><td>5.0</td><td>0.0</td><td>3.5</td><td>0.5</td><td>0.5</td><td>0.01</td><td>0.0</td><td>null</td><td>0.3</td><td>4.81</td><td>1.0</td><td>1.0</td><td>0.0</td></tr><tr><td>2</td><td>2020-01-01T00:45:58</td><td>2020-01-01T00:56:39</td><td>N</td><td>5.0</td><td>66</td><td>65</td><td>2.0</td><td>1.28</td><td>20.0</td><td>0.0</td><td>0.0</td><td>4.06</td><td>0.0</td><td>null</td><td>0.3</td><td>24.36</td><td>1.0</td><td>2.0</td><td>0.0</td></tr><tr><td>2</td><td>2020-01-01T00:41:38</td><td>2020-01-01T00:52:49</td><td>N</td><td>1.0</td><td>181</td><td>228</td><td>1.0</td><td>2.47</td><td>10.5</td><td>0.5</td><td>0.5</td><td>3.54</td><td>0.0</td><td>null</td><td>0.3</td><td>15.34</td><td>1.0</td><td>1.0</td><td>0.0</td></tr><tr><td>1</td><td>2020-01-01T00:52:46</td><td>2020-01-01T01:14:21</td><td>N</td><td>1.0</td><td>129</td><td>263</td><td>2.0</td><td>6.3</td><td>21.0</td><td>3.25</td><td>0.5</td><td>0.0</td><td>0.0</td><td>null</td><td>0.3</td><td>25.05</td><td>2.0</td><td>1.0</td><td>2.75</td></tr><tr><td>1</td><td>2020-01-01T00:19:57</td><td>2020-01-01T00:30:56</td><td>N</td><td>1.0</td><td>210</td><td>150</td><td>1.0</td><td>2.3</td><td>10.0</td><td>0.5</td><td>0.5</td><td>0.0</td><td>0.0</td><td>null</td><td>0.3</td><td>11.3</td><td>1.0</td><td>1.0</td><td>0.0</td></tr></tbody></table></div>"
      ]
     },
     "metadata": {
      "application/vnd.databricks.v1+output": {
       "addedWidgets": {},
       "aggData": [],
       "aggError": "",
       "aggOverflow": false,
       "aggSchema": [],
       "aggSeriesLimitReached": false,
       "aggType": "",
       "arguments": {},
       "columnCustomDisplayInfos": {},
       "data": [
        [
         2,
         "2019-12-18T15:52:30",
         "2019-12-18T15:54:39",
         "N",
         1,
         264,
         264,
         5,
         0,
         3.5,
         0.5,
         0.5,
         0.01,
         0,
         null,
         0.3,
         4.81,
         1,
         1,
         0
        ],
        [
         2,
         "2020-01-01T00:45:58",
         "2020-01-01T00:56:39",
         "N",
         5,
         66,
         65,
         2,
         1.28,
         20,
         0,
         0,
         4.06,
         0,
         null,
         0.3,
         24.36,
         1,
         2,
         0
        ],
        [
         2,
         "2020-01-01T00:41:38",
         "2020-01-01T00:52:49",
         "N",
         1,
         181,
         228,
         1,
         2.47,
         10.5,
         0.5,
         0.5,
         3.54,
         0,
         null,
         0.3,
         15.34,
         1,
         1,
         0
        ],
        [
         1,
         "2020-01-01T00:52:46",
         "2020-01-01T01:14:21",
         "N",
         1,
         129,
         263,
         2,
         6.3,
         21,
         3.25,
         0.5,
         0,
         0,
         null,
         0.3,
         25.05,
         2,
         1,
         2.75
        ],
        [
         1,
         "2020-01-01T00:19:57",
         "2020-01-01T00:30:56",
         "N",
         1,
         210,
         150,
         1,
         2.3,
         10,
         0.5,
         0.5,
         0,
         0,
         null,
         0.3,
         11.3,
         1,
         1,
         0
        ]
       ],
       "datasetInfos": [],
       "dbfsResultPath": null,
       "isJsonSchema": true,
       "metadata": {},
       "overflow": false,
       "plotOptions": {
        "customPlotOptions": {},
        "displayType": "table",
        "pivotAggregation": null,
        "pivotColumns": null,
        "xColumns": null,
        "yColumns": null
       },
       "removedWidgets": [],
       "schema": [
        {
         "metadata": "{}",
         "name": "VendorID",
         "type": "\"long\""
        },
        {
         "metadata": "{}",
         "name": "lpep_pickup_datetime",
         "type": "\"timestamp_ntz\""
        },
        {
         "metadata": "{}",
         "name": "lpep_dropoff_datetime",
         "type": "\"timestamp_ntz\""
        },
        {
         "metadata": "{}",
         "name": "store_and_fwd_flag",
         "type": "\"string\""
        },
        {
         "metadata": "{}",
         "name": "RatecodeID",
         "type": "\"double\""
        },
        {
         "metadata": "{}",
         "name": "PULocationID",
         "type": "\"long\""
        },
        {
         "metadata": "{}",
         "name": "DOLocationID",
         "type": "\"long\""
        },
        {
         "metadata": "{}",
         "name": "passenger_count",
         "type": "\"double\""
        },
        {
         "metadata": "{}",
         "name": "trip_distance",
         "type": "\"double\""
        },
        {
         "metadata": "{}",
         "name": "fare_amount",
         "type": "\"double\""
        },
        {
         "metadata": "{}",
         "name": "extra",
         "type": "\"double\""
        },
        {
         "metadata": "{}",
         "name": "mta_tax",
         "type": "\"double\""
        },
        {
         "metadata": "{}",
         "name": "tip_amount",
         "type": "\"double\""
        },
        {
         "metadata": "{}",
         "name": "tolls_amount",
         "type": "\"double\""
        },
        {
         "metadata": "{}",
         "name": "ehail_fee",
         "type": "\"double\""
        },
        {
         "metadata": "{}",
         "name": "improvement_surcharge",
         "type": "\"double\""
        },
        {
         "metadata": "{}",
         "name": "total_amount",
         "type": "\"double\""
        },
        {
         "metadata": "{}",
         "name": "payment_type",
         "type": "\"double\""
        },
        {
         "metadata": "{}",
         "name": "trip_type",
         "type": "\"double\""
        },
        {
         "metadata": "{}",
         "name": "congestion_surcharge",
         "type": "\"double\""
        }
       ],
       "type": "table"
      }
     },
     "output_type": "display_data"
    }
   ],
   "source": [
    "# Define paths for Green Taxi data\n",
    "directory_path = '/dbfs/FileStore/tables/Input/green/'\n",
    "directory_path_2 = '/FileStore/tables/Input/green/'\n",
    "\n",
    "# Get list of Parquet files\n",
    "parquet_files = [file for file in os.listdir(directory_path) if file.endswith(\".parquet\")]\n",
    "\n",
    "# Initialize DataFrame\n",
    "gt_df_S = None\n",
    "\n",
    "# Read and combine Parquet files\n",
    "for file in parquet_files:\n",
    "    file_path = os.path.join(directory_path_2, file)\n",
    "    df = spark.read.parquet(file_path)\n",
    "    if gt_df_S is None:\n",
    "         gt_df_S = df\n",
    "    else:\n",
    "        gt_df_S = gt_df_S.unionByName(df)\n",
    "\n",
    "# Display initial data\n",
    "print(\"Initial Green Taxi Data Summary:\")\n",
    "print(f\"Number of Records: {gt_df_S.count()}\")\n",
    "print(f\"Number of Columns: {len(gt_df_S.columns)}\")\n",
    "display(gt_df_S.limit(5))"
   ]
  },
  {
   "cell_type": "markdown",
   "metadata": {
    "application/vnd.databricks.v1+cell": {
     "cellMetadata": {
      "byteLimit": 2048000,
      "rowLimit": 10000
     },
     "inputWidgets": {},
     "nuid": "1321e9eb-100b-4ebe-8477-92165ecc0f15",
     "showTitle": false,
     "tableResultSettingsMap": {},
     "title": ""
    }
   },
   "source": [
    "### Initial Transformations on Green Taxi Data"
   ]
  },
  {
   "cell_type": "code",
   "execution_count": 0,
   "metadata": {
    "application/vnd.databricks.v1+cell": {
     "cellMetadata": {
      "byteLimit": 2048000,
      "rowLimit": 10000
     },
     "inputWidgets": {},
     "nuid": "732385a6-cb6c-467b-bb23-62e82b64b720",
     "showTitle": false,
     "tableResultSettingsMap": {},
     "title": ""
    }
   },
   "outputs": [
    {
     "data": {
      "text/html": [
       "<style scoped>\n",
       "  .table-result-container {\n",
       "    max-height: 300px;\n",
       "    overflow: auto;\n",
       "  }\n",
       "  table, th, td {\n",
       "    border: 1px solid black;\n",
       "    border-collapse: collapse;\n",
       "  }\n",
       "  th, td {\n",
       "    padding: 5px;\n",
       "  }\n",
       "  th {\n",
       "    text-align: left;\n",
       "  }\n",
       "</style><div class='table-result-container'><table class='table-result'><thead style='background-color: white'><tr><th>RecordProviderName</th><th>PickupDatetime</th><th>DropoffDatetime</th><th>store_and_fwd_flag</th><th>RatecodeID</th><th>PULocationID</th><th>DOLocationID</th><th>passenger_count</th><th>TripDistanceMiles</th><th>MeterFareAmount</th><th>extra</th><th>tax</th><th>tip_amount</th><th>tolls_amount</th><th>ehail_fee</th><th>improvement_surcharge</th><th>total_amount</th><th>payment_type</th><th>trip_type</th><th>congestion_surcharge</th><th>TripDuration</th></tr></thead><tbody><tr><td>VeriFone Inc.</td><td>2019-12-18T15:52:30</td><td>2019-12-18T15:54:39</td><td>N</td><td>1.0</td><td>264</td><td>264</td><td>5.0</td><td>0.0</td><td>3.5</td><td>0.5</td><td>0.5</td><td>0.01</td><td>0.0</td><td>null</td><td>0.3</td><td>4.81</td><td>1.0</td><td>1.0</td><td>0.0</td><td>129</td></tr><tr><td>VeriFone Inc.</td><td>2020-01-01T00:45:58</td><td>2020-01-01T00:56:39</td><td>N</td><td>5.0</td><td>66</td><td>65</td><td>2.0</td><td>1.28</td><td>20.0</td><td>0.0</td><td>0.0</td><td>4.06</td><td>0.0</td><td>null</td><td>0.3</td><td>24.36</td><td>1.0</td><td>2.0</td><td>0.0</td><td>641</td></tr><tr><td>VeriFone Inc.</td><td>2020-01-01T00:41:38</td><td>2020-01-01T00:52:49</td><td>N</td><td>1.0</td><td>181</td><td>228</td><td>1.0</td><td>2.47</td><td>10.5</td><td>0.5</td><td>0.5</td><td>3.54</td><td>0.0</td><td>null</td><td>0.3</td><td>15.34</td><td>1.0</td><td>1.0</td><td>0.0</td><td>671</td></tr><tr><td>Creative Mobile Technologies</td><td>2020-01-01T00:52:46</td><td>2020-01-01T01:14:21</td><td>N</td><td>1.0</td><td>129</td><td>263</td><td>2.0</td><td>6.3</td><td>21.0</td><td>3.25</td><td>0.5</td><td>0.0</td><td>0.0</td><td>null</td><td>0.3</td><td>25.05</td><td>2.0</td><td>1.0</td><td>2.75</td><td>1295</td></tr><tr><td>Creative Mobile Technologies</td><td>2020-01-01T00:19:57</td><td>2020-01-01T00:30:56</td><td>N</td><td>1.0</td><td>210</td><td>150</td><td>1.0</td><td>2.3</td><td>10.0</td><td>0.5</td><td>0.5</td><td>0.0</td><td>0.0</td><td>null</td><td>0.3</td><td>11.3</td><td>1.0</td><td>1.0</td><td>0.0</td><td>659</td></tr></tbody></table></div>"
      ]
     },
     "metadata": {
      "application/vnd.databricks.v1+output": {
       "addedWidgets": {},
       "aggData": [],
       "aggError": "",
       "aggOverflow": false,
       "aggSchema": [],
       "aggSeriesLimitReached": false,
       "aggType": "",
       "arguments": {},
       "columnCustomDisplayInfos": {},
       "data": [
        [
         "VeriFone Inc.",
         "2019-12-18T15:52:30",
         "2019-12-18T15:54:39",
         "N",
         1,
         264,
         264,
         5,
         0,
         3.5,
         0.5,
         0.5,
         0.01,
         0,
         null,
         0.3,
         4.81,
         1,
         1,
         0,
         129
        ],
        [
         "VeriFone Inc.",
         "2020-01-01T00:45:58",
         "2020-01-01T00:56:39",
         "N",
         5,
         66,
         65,
         2,
         1.28,
         20,
         0,
         0,
         4.06,
         0,
         null,
         0.3,
         24.36,
         1,
         2,
         0,
         641
        ],
        [
         "VeriFone Inc.",
         "2020-01-01T00:41:38",
         "2020-01-01T00:52:49",
         "N",
         1,
         181,
         228,
         1,
         2.47,
         10.5,
         0.5,
         0.5,
         3.54,
         0,
         null,
         0.3,
         15.34,
         1,
         1,
         0,
         671
        ],
        [
         "Creative Mobile Technologies",
         "2020-01-01T00:52:46",
         "2020-01-01T01:14:21",
         "N",
         1,
         129,
         263,
         2,
         6.3,
         21,
         3.25,
         0.5,
         0,
         0,
         null,
         0.3,
         25.05,
         2,
         1,
         2.75,
         1295
        ],
        [
         "Creative Mobile Technologies",
         "2020-01-01T00:19:57",
         "2020-01-01T00:30:56",
         "N",
         1,
         210,
         150,
         1,
         2.3,
         10,
         0.5,
         0.5,
         0,
         0,
         null,
         0.3,
         11.3,
         1,
         1,
         0,
         659
        ]
       ],
       "datasetInfos": [],
       "dbfsResultPath": null,
       "isJsonSchema": true,
       "metadata": {},
       "overflow": false,
       "plotOptions": {
        "customPlotOptions": {},
        "displayType": "table",
        "pivotAggregation": null,
        "pivotColumns": null,
        "xColumns": null,
        "yColumns": null
       },
       "removedWidgets": [],
       "schema": [
        {
         "metadata": "{}",
         "name": "RecordProviderName",
         "type": "\"string\""
        },
        {
         "metadata": "{}",
         "name": "PickupDatetime",
         "type": "\"timestamp_ntz\""
        },
        {
         "metadata": "{}",
         "name": "DropoffDatetime",
         "type": "\"timestamp_ntz\""
        },
        {
         "metadata": "{}",
         "name": "store_and_fwd_flag",
         "type": "\"string\""
        },
        {
         "metadata": "{}",
         "name": "RatecodeID",
         "type": "\"double\""
        },
        {
         "metadata": "{}",
         "name": "PULocationID",
         "type": "\"long\""
        },
        {
         "metadata": "{}",
         "name": "DOLocationID",
         "type": "\"long\""
        },
        {
         "metadata": "{}",
         "name": "passenger_count",
         "type": "\"double\""
        },
        {
         "metadata": "{}",
         "name": "TripDistanceMiles",
         "type": "\"double\""
        },
        {
         "metadata": "{}",
         "name": "MeterFareAmount",
         "type": "\"double\""
        },
        {
         "metadata": "{}",
         "name": "extra",
         "type": "\"double\""
        },
        {
         "metadata": "{}",
         "name": "tax",
         "type": "\"double\""
        },
        {
         "metadata": "{}",
         "name": "tip_amount",
         "type": "\"double\""
        },
        {
         "metadata": "{}",
         "name": "tolls_amount",
         "type": "\"double\""
        },
        {
         "metadata": "{}",
         "name": "ehail_fee",
         "type": "\"double\""
        },
        {
         "metadata": "{}",
         "name": "improvement_surcharge",
         "type": "\"double\""
        },
        {
         "metadata": "{}",
         "name": "total_amount",
         "type": "\"double\""
        },
        {
         "metadata": "{}",
         "name": "payment_type",
         "type": "\"double\""
        },
        {
         "metadata": "{}",
         "name": "trip_type",
         "type": "\"double\""
        },
        {
         "metadata": "{}",
         "name": "congestion_surcharge",
         "type": "\"double\""
        },
        {
         "metadata": "{}",
         "name": "TripDuration",
         "type": "\"long\""
        }
       ],
       "type": "table"
      }
     },
     "output_type": "display_data"
    }
   ],
   "source": [
    "# Calculate Trip Duration (in seconds)\n",
    "gt_df_S = gt_df_S.withColumn(\"TripDuration\", \n",
    "    unix_timestamp(\"lpep_dropoff_datetime\") - unix_timestamp(\"lpep_pickup_datetime\"))\n",
    "\n",
    "# Clean vendor information\n",
    "gt_df_S = gt_df_S.withColumn(\"VendorID\", \n",
    "    when(col(\"VendorID\") == 1, \"Creative Mobile Technologies\")\n",
    "    .when(col(\"VendorID\") == 2, \"VeriFone Inc.\")\n",
    "    .otherwise(col(\"VendorID\")))\n",
    "\n",
    "# Standardize column names\n",
    "gt_df_S = gt_df_S.withColumnRenamed('VendorID', 'RecordProviderName') \\\n",
    "                 .withColumnRenamed('lpep_pickup_datetime', 'PickupDatetime') \\\n",
    "                 .withColumnRenamed('lpep_dropoff_datetime', 'DropoffDatetime') \\\n",
    "                 .withColumnRenamed('trip_distance', 'TripDistanceMiles') \\\n",
    "                 .withColumnRenamed('fare_amount', 'MeterFareAmount')\\\n",
    "                 .withColumnRenamed('mta_tax', 'tax')\n",
    "\n",
    "display(gt_df_S.limit(5))"
   ]
  },
  {
   "cell_type": "markdown",
   "metadata": {
    "application/vnd.databricks.v1+cell": {
     "cellMetadata": {
      "byteLimit": 2048000,
      "rowLimit": 10000
     },
     "inputWidgets": {},
     "nuid": "419c939f-57c3-4ad6-9b7a-3db8c37b705a",
     "showTitle": false,
     "tableResultSettingsMap": {},
     "title": ""
    }
   },
   "source": [
    "### Add Location Details to Green Taxi Data"
   ]
  },
  {
   "cell_type": "code",
   "execution_count": 0,
   "metadata": {
    "application/vnd.databricks.v1+cell": {
     "cellMetadata": {
      "byteLimit": 2048000,
      "rowLimit": 10000
     },
     "inputWidgets": {},
     "nuid": "6b68ca50-c1ed-4d43-9afb-11da4356f466",
     "showTitle": false,
     "tableResultSettingsMap": {},
     "title": ""
    }
   },
   "outputs": [
    {
     "data": {
      "text/html": [
       "<style scoped>\n",
       "  .table-result-container {\n",
       "    max-height: 300px;\n",
       "    overflow: auto;\n",
       "  }\n",
       "  table, th, td {\n",
       "    border: 1px solid black;\n",
       "    border-collapse: collapse;\n",
       "  }\n",
       "  th, td {\n",
       "    padding: 5px;\n",
       "  }\n",
       "  th {\n",
       "    text-align: left;\n",
       "  }\n",
       "</style><div class='table-result-container'><table class='table-result'><thead style='background-color: white'><tr><th>RecordProviderName</th><th>PickupDatetime</th><th>DropoffDatetime</th><th>store_and_fwd_flag</th><th>RatecodeID</th><th>PULocationID</th><th>DOLocationID</th><th>passenger_count</th><th>TripDistanceMiles</th><th>MeterFareAmount</th><th>extra</th><th>tax</th><th>tip_amount</th><th>tolls_amount</th><th>ehail_fee</th><th>improvement_surcharge</th><th>total_amount</th><th>payment_type</th><th>trip_type</th><th>congestion_surcharge</th><th>TripDuration</th><th>PickupBorough</th><th>PickupZone</th><th>PickupServiceZone</th><th>PULatitude</th><th>PULongitude</th><th>DropoffBorough</th><th>DropoffZone</th><th>DropoffServiceZone</th><th>DOLatitude</th><th>DOLongitude</th></tr></thead><tbody><tr><td>VeriFone Inc.</td><td>2019-12-18T15:52:30</td><td>2019-12-18T15:54:39</td><td>N</td><td>1.0</td><td>264</td><td>264</td><td>5.0</td><td>0.0</td><td>3.5</td><td>0.5</td><td>0.5</td><td>0.01</td><td>0.0</td><td>null</td><td>0.3</td><td>4.81</td><td>1.0</td><td>1.0</td><td>0.0</td><td>129</td><td>null</td><td>null</td><td>null</td><td>null</td><td>null</td><td>null</td><td>null</td><td>null</td><td>null</td><td>null</td></tr><tr><td>VeriFone Inc.</td><td>2020-01-01T00:45:58</td><td>2020-01-01T00:56:39</td><td>N</td><td>5.0</td><td>66</td><td>65</td><td>2.0</td><td>1.28</td><td>20.0</td><td>0.0</td><td>0.0</td><td>4.06</td><td>0.0</td><td>null</td><td>0.3</td><td>24.36</td><td>1.0</td><td>2.0</td><td>0.0</td><td>641</td><td>Brooklyn</td><td>DUMBO/Vinegar Hill</td><td>Boro Zone</td><td>-73.9863827475546</td><td>40.701732471687</td><td>Brooklyn</td><td>Downtown Brooklyn/MetroTech</td><td>Boro Zone</td><td>-73.9855710635353</td><td>40.6953726093294</td></tr><tr><td>VeriFone Inc.</td><td>2020-01-01T00:41:38</td><td>2020-01-01T00:52:49</td><td>N</td><td>1.0</td><td>181</td><td>228</td><td>1.0</td><td>2.47</td><td>10.5</td><td>0.5</td><td>0.5</td><td>3.54</td><td>0.0</td><td>null</td><td>0.3</td><td>15.34</td><td>1.0</td><td>1.0</td><td>0.0</td><td>671</td><td>Brooklyn</td><td>Park Slope</td><td>Boro Zone</td><td>-73.979044896845</td><td>40.672019140546</td><td>Brooklyn</td><td>Sunset Park West</td><td>Boro Zone</td><td>-74.009960471569</td><td>40.6536182069019</td></tr><tr><td>Creative Mobile Technologies</td><td>2020-01-01T00:52:46</td><td>2020-01-01T01:14:21</td><td>N</td><td>1.0</td><td>129</td><td>263</td><td>2.0</td><td>6.3</td><td>21.0</td><td>3.25</td><td>0.5</td><td>0.0</td><td>0.0</td><td>null</td><td>0.3</td><td>25.05</td><td>2.0</td><td>1.0</td><td>2.75</td><td>1295</td><td>Queens</td><td>Jackson Heights</td><td>Boro Zone</td><td>-73.8874063794919</td><td>40.7590574739636</td><td>Manhattan</td><td>Yorkville West</td><td>Yellow Zone</td><td>-73.9512079916544</td><td>40.7784958687768</td></tr><tr><td>Creative Mobile Technologies</td><td>2020-01-01T00:19:57</td><td>2020-01-01T00:30:56</td><td>N</td><td>1.0</td><td>210</td><td>150</td><td>1.0</td><td>2.3</td><td>10.0</td><td>0.5</td><td>0.5</td><td>0.0</td><td>0.0</td><td>null</td><td>0.3</td><td>11.3</td><td>1.0</td><td>1.0</td><td>0.0</td><td>659</td><td>Brooklyn</td><td>Sheepshead Bay</td><td>Boro Zone</td><td>-73.9443360454416</td><td>40.5937616085004</td><td>Brooklyn</td><td>Manhattan Beach</td><td>Boro Zone</td><td>-73.9428842620734</td><td>40.5802623241253</td></tr></tbody></table></div>"
      ]
     },
     "metadata": {
      "application/vnd.databricks.v1+output": {
       "addedWidgets": {},
       "aggData": [],
       "aggError": "",
       "aggOverflow": false,
       "aggSchema": [],
       "aggSeriesLimitReached": false,
       "aggType": "",
       "arguments": {},
       "columnCustomDisplayInfos": {},
       "data": [
        [
         "VeriFone Inc.",
         "2019-12-18T15:52:30",
         "2019-12-18T15:54:39",
         "N",
         1,
         264,
         264,
         5,
         0,
         3.5,
         0.5,
         0.5,
         0.01,
         0,
         null,
         0.3,
         4.81,
         1,
         1,
         0,
         129,
         null,
         null,
         null,
         null,
         null,
         null,
         null,
         null,
         null,
         null
        ],
        [
         "VeriFone Inc.",
         "2020-01-01T00:45:58",
         "2020-01-01T00:56:39",
         "N",
         5,
         66,
         65,
         2,
         1.28,
         20,
         0,
         0,
         4.06,
         0,
         null,
         0.3,
         24.36,
         1,
         2,
         0,
         641,
         "Brooklyn",
         "DUMBO/Vinegar Hill",
         "Boro Zone",
         -73.9863827475546,
         40.701732471687,
         "Brooklyn",
         "Downtown Brooklyn/MetroTech",
         "Boro Zone",
         -73.9855710635353,
         40.6953726093294
        ],
        [
         "VeriFone Inc.",
         "2020-01-01T00:41:38",
         "2020-01-01T00:52:49",
         "N",
         1,
         181,
         228,
         1,
         2.47,
         10.5,
         0.5,
         0.5,
         3.54,
         0,
         null,
         0.3,
         15.34,
         1,
         1,
         0,
         671,
         "Brooklyn",
         "Park Slope",
         "Boro Zone",
         -73.979044896845,
         40.672019140546,
         "Brooklyn",
         "Sunset Park West",
         "Boro Zone",
         -74.009960471569,
         40.6536182069019
        ],
        [
         "Creative Mobile Technologies",
         "2020-01-01T00:52:46",
         "2020-01-01T01:14:21",
         "N",
         1,
         129,
         263,
         2,
         6.3,
         21,
         3.25,
         0.5,
         0,
         0,
         null,
         0.3,
         25.05,
         2,
         1,
         2.75,
         1295,
         "Queens",
         "Jackson Heights",
         "Boro Zone",
         -73.8874063794919,
         40.7590574739636,
         "Manhattan",
         "Yorkville West",
         "Yellow Zone",
         -73.9512079916544,
         40.7784958687768
        ],
        [
         "Creative Mobile Technologies",
         "2020-01-01T00:19:57",
         "2020-01-01T00:30:56",
         "N",
         1,
         210,
         150,
         1,
         2.3,
         10,
         0.5,
         0.5,
         0,
         0,
         null,
         0.3,
         11.3,
         1,
         1,
         0,
         659,
         "Brooklyn",
         "Sheepshead Bay",
         "Boro Zone",
         -73.9443360454416,
         40.5937616085004,
         "Brooklyn",
         "Manhattan Beach",
         "Boro Zone",
         -73.9428842620734,
         40.5802623241253
        ]
       ],
       "datasetInfos": [],
       "dbfsResultPath": null,
       "isJsonSchema": true,
       "metadata": {},
       "overflow": false,
       "plotOptions": {
        "customPlotOptions": {},
        "displayType": "table",
        "pivotAggregation": null,
        "pivotColumns": null,
        "xColumns": null,
        "yColumns": null
       },
       "removedWidgets": [],
       "schema": [
        {
         "metadata": "{}",
         "name": "RecordProviderName",
         "type": "\"string\""
        },
        {
         "metadata": "{}",
         "name": "PickupDatetime",
         "type": "\"timestamp_ntz\""
        },
        {
         "metadata": "{}",
         "name": "DropoffDatetime",
         "type": "\"timestamp_ntz\""
        },
        {
         "metadata": "{}",
         "name": "store_and_fwd_flag",
         "type": "\"string\""
        },
        {
         "metadata": "{}",
         "name": "RatecodeID",
         "type": "\"double\""
        },
        {
         "metadata": "{}",
         "name": "PULocationID",
         "type": "\"long\""
        },
        {
         "metadata": "{}",
         "name": "DOLocationID",
         "type": "\"long\""
        },
        {
         "metadata": "{}",
         "name": "passenger_count",
         "type": "\"double\""
        },
        {
         "metadata": "{}",
         "name": "TripDistanceMiles",
         "type": "\"double\""
        },
        {
         "metadata": "{}",
         "name": "MeterFareAmount",
         "type": "\"double\""
        },
        {
         "metadata": "{}",
         "name": "extra",
         "type": "\"double\""
        },
        {
         "metadata": "{}",
         "name": "tax",
         "type": "\"double\""
        },
        {
         "metadata": "{}",
         "name": "tip_amount",
         "type": "\"double\""
        },
        {
         "metadata": "{}",
         "name": "tolls_amount",
         "type": "\"double\""
        },
        {
         "metadata": "{}",
         "name": "ehail_fee",
         "type": "\"double\""
        },
        {
         "metadata": "{}",
         "name": "improvement_surcharge",
         "type": "\"double\""
        },
        {
         "metadata": "{}",
         "name": "total_amount",
         "type": "\"double\""
        },
        {
         "metadata": "{}",
         "name": "payment_type",
         "type": "\"double\""
        },
        {
         "metadata": "{}",
         "name": "trip_type",
         "type": "\"double\""
        },
        {
         "metadata": "{}",
         "name": "congestion_surcharge",
         "type": "\"double\""
        },
        {
         "metadata": "{}",
         "name": "TripDuration",
         "type": "\"long\""
        },
        {
         "metadata": "{}",
         "name": "PickupBorough",
         "type": "\"string\""
        },
        {
         "metadata": "{}",
         "name": "PickupZone",
         "type": "\"string\""
        },
        {
         "metadata": "{}",
         "name": "PickupServiceZone",
         "type": "\"string\""
        },
        {
         "metadata": "{}",
         "name": "PULatitude",
         "type": "\"double\""
        },
        {
         "metadata": "{}",
         "name": "PULongitude",
         "type": "\"double\""
        },
        {
         "metadata": "{}",
         "name": "DropoffBorough",
         "type": "\"string\""
        },
        {
         "metadata": "{}",
         "name": "DropoffZone",
         "type": "\"string\""
        },
        {
         "metadata": "{}",
         "name": "DropoffServiceZone",
         "type": "\"string\""
        },
        {
         "metadata": "{}",
         "name": "DOLatitude",
         "type": "\"double\""
        },
        {
         "metadata": "{}",
         "name": "DOLongitude",
         "type": "\"double\""
        }
       ],
       "type": "table"
      }
     },
     "output_type": "display_data"
    }
   ],
   "source": [
    "# Add pickup location details\n",
    "gt_df_S = gt_df_S.join(\n",
    "    tz_latlong_S.select('LocationID', 'Borough', 'Zone', 'service_zone', 'Latitude', 'Longitude')\n",
    "                .withColumnRenamed('Borough', 'PickupBorough')\n",
    "                .withColumnRenamed('Zone', 'PickupZone')\n",
    "                .withColumnRenamed('service_zone', 'PickupServiceZone')\n",
    "                .withColumnRenamed('Latitude', 'PULatitude')\n",
    "                .withColumnRenamed('Longitude', 'PULongitude'),\n",
    "    col('PULocationID') == col('LocationID'),\n",
    "    'left'\n",
    ").drop('LocationID')\n",
    "\n",
    "# Add dropoff location details\n",
    "gt_df_S = gt_df_S.join(\n",
    "    tz_latlong_S.select('LocationID', 'Borough', 'Zone', 'service_zone', 'Latitude', 'Longitude')\n",
    "                .withColumnRenamed('Borough', 'DropoffBorough')\n",
    "                .withColumnRenamed('Zone', 'DropoffZone')\n",
    "                .withColumnRenamed('service_zone', 'DropoffServiceZone')\n",
    "                .withColumnRenamed('Latitude', 'DOLatitude')\n",
    "                .withColumnRenamed('Longitude', 'DOLongitude'),\n",
    "    col('DOLocationID') == col('LocationID'),\n",
    "    'left'\n",
    ").drop('LocationID')\n",
    "\n",
    "display(gt_df_S.limit(5))"
   ]
  },
  {
   "cell_type": "markdown",
   "metadata": {
    "application/vnd.databricks.v1+cell": {
     "cellMetadata": {
      "byteLimit": 2048000,
      "rowLimit": 10000
     },
     "inputWidgets": {},
     "nuid": "f32174ce-9d34-4748-8728-9c00d323d889",
     "showTitle": false,
     "tableResultSettingsMap": {},
     "title": ""
    }
   },
   "source": [
    "### Data Cleaning for Green Taxi Data"
   ]
  },
  {
   "cell_type": "code",
   "execution_count": 0,
   "metadata": {
    "application/vnd.databricks.v1+cell": {
     "cellMetadata": {
      "byteLimit": 2048000,
      "rowLimit": 10000
     },
     "inputWidgets": {},
     "nuid": "d56c7f59-41d0-4e7d-bc43-f664784261a8",
     "showTitle": false,
     "tableResultSettingsMap": {},
     "title": ""
    }
   },
   "outputs": [
    {
     "name": "stdout",
     "output_type": "stream",
     "text": [
      "Processed Green Taxi Data Summary:\n",
      "Number of Records: 4812410\n",
      "Number of Columns: 28\n"
     ]
    },
    {
     "data": {
      "text/html": [
       "<style scoped>\n",
       "  .table-result-container {\n",
       "    max-height: 300px;\n",
       "    overflow: auto;\n",
       "  }\n",
       "  table, th, td {\n",
       "    border: 1px solid black;\n",
       "    border-collapse: collapse;\n",
       "  }\n",
       "  th, td {\n",
       "    padding: 5px;\n",
       "  }\n",
       "  th {\n",
       "    text-align: left;\n",
       "  }\n",
       "</style><div class='table-result-container'><table class='table-result'><thead style='background-color: white'><tr><th>RecordProviderName</th><th>PickupDatetime</th><th>DropoffDatetime</th><th>RatecodeID</th><th>PULocationID</th><th>DOLocationID</th><th>passenger_count</th><th>TripDistanceMiles</th><th>MeterFareAmount</th><th>extra</th><th>tax</th><th>tip_amount</th><th>tolls_amount</th><th>total_amount</th><th>payment_type</th><th>congestion_surcharge</th><th>TripDuration</th><th>PickupBorough</th><th>PickupZone</th><th>PickupServiceZone</th><th>PULatitude</th><th>PULongitude</th><th>DropoffBorough</th><th>DropoffZone</th><th>DropoffServiceZone</th><th>DOLatitude</th><th>DOLongitude</th><th>RideType</th></tr></thead><tbody><tr><td>VeriFone Inc.</td><td>2020-01-01T00:45:58</td><td>2020-01-01T00:56:39</td><td>5.0</td><td>66</td><td>65</td><td>2.0</td><td>1.28</td><td>20.0</td><td>0.0</td><td>0.0</td><td>4.06</td><td>0.0</td><td>24.36</td><td>1.0</td><td>0.0</td><td>641</td><td>Brooklyn</td><td>DUMBO/Vinegar Hill</td><td>Boro Zone</td><td>-73.9863827475546</td><td>40.701732471687</td><td>Brooklyn</td><td>Downtown Brooklyn/MetroTech</td><td>Boro Zone</td><td>-73.9855710635353</td><td>40.6953726093294</td><td>Green Taxi</td></tr><tr><td>VeriFone Inc.</td><td>2020-01-01T00:41:38</td><td>2020-01-01T00:52:49</td><td>1.0</td><td>181</td><td>228</td><td>1.0</td><td>2.47</td><td>10.5</td><td>0.5</td><td>0.5</td><td>3.54</td><td>0.0</td><td>15.34</td><td>1.0</td><td>0.0</td><td>671</td><td>Brooklyn</td><td>Park Slope</td><td>Boro Zone</td><td>-73.979044896845</td><td>40.672019140546</td><td>Brooklyn</td><td>Sunset Park West</td><td>Boro Zone</td><td>-74.009960471569</td><td>40.6536182069019</td><td>Green Taxi</td></tr><tr><td>Creative Mobile Technologies</td><td>2020-01-01T00:52:46</td><td>2020-01-01T01:14:21</td><td>1.0</td><td>129</td><td>263</td><td>2.0</td><td>6.3</td><td>21.0</td><td>3.25</td><td>0.5</td><td>0.0</td><td>0.0</td><td>25.05</td><td>2.0</td><td>2.75</td><td>1295</td><td>Queens</td><td>Jackson Heights</td><td>Boro Zone</td><td>-73.8874063794919</td><td>40.7590574739636</td><td>Manhattan</td><td>Yorkville West</td><td>Yellow Zone</td><td>-73.9512079916544</td><td>40.7784958687768</td><td>Green Taxi</td></tr><tr><td>Creative Mobile Technologies</td><td>2020-01-01T00:19:57</td><td>2020-01-01T00:30:56</td><td>1.0</td><td>210</td><td>150</td><td>1.0</td><td>2.3</td><td>10.0</td><td>0.5</td><td>0.5</td><td>0.0</td><td>0.0</td><td>11.3</td><td>1.0</td><td>0.0</td><td>659</td><td>Brooklyn</td><td>Sheepshead Bay</td><td>Boro Zone</td><td>-73.9443360454416</td><td>40.5937616085004</td><td>Brooklyn</td><td>Manhattan Beach</td><td>Boro Zone</td><td>-73.9428842620734</td><td>40.5802623241253</td><td>Green Taxi</td></tr><tr><td>Creative Mobile Technologies</td><td>2020-01-01T00:52:33</td><td>2020-01-01T01:09:54</td><td>1.0</td><td>35</td><td>39</td><td>1.0</td><td>3.0</td><td>13.5</td><td>0.5</td><td>0.5</td><td>0.0</td><td>0.0</td><td>14.8</td><td>1.0</td><td>0.0</td><td>1041</td><td>Brooklyn</td><td>Brownsville</td><td>Boro Zone</td><td>-73.9124814882782</td><td>40.6638098226151</td><td>Brooklyn</td><td>Canarsie</td><td>Boro Zone</td><td>-73.899773871952</td><td>40.6388789299243</td><td>Green Taxi</td></tr><tr><td>VeriFone Inc.</td><td>2020-01-01T00:10:18</td><td>2020-01-01T00:22:16</td><td>1.0</td><td>25</td><td>61</td><td>1.0</td><td>2.77</td><td>11.0</td><td>0.5</td><td>0.5</td><td>0.0</td><td>0.0</td><td>12.3</td><td>2.0</td><td>0.0</td><td>718</td><td>Brooklyn</td><td>Boerum Hill</td><td>Boro Zone</td><td>-73.9864589876713</td><td>40.685614589464</td><td>Brooklyn</td><td>Crown Heights North</td><td>Boro Zone</td><td>-73.9412820292214</td><td>40.6738428461316</td><td>Green Taxi</td></tr><tr><td>VeriFone Inc.</td><td>2020-01-01T01:03:14</td><td>2020-01-01T01:29:45</td><td>1.0</td><td>225</td><td>89</td><td>1.0</td><td>4.98</td><td>20.5</td><td>0.5</td><td>0.5</td><td>0.0</td><td>0.0</td><td>21.8</td><td>2.0</td><td>0.0</td><td>1591</td><td>Brooklyn</td><td>Stuyvesant Heights</td><td>Boro Zone</td><td>-73.9314448522357</td><td>40.6887850672001</td><td>Brooklyn</td><td>Flatbush/Ditmas Park</td><td>Boro Zone</td><td>-73.9626937337469</td><td>40.64098273381</td><td>Green Taxi</td></tr><tr><td>VeriFone Inc.</td><td>2020-01-01T00:04:11</td><td>2020-01-01T00:09:48</td><td>1.0</td><td>129</td><td>129</td><td>1.0</td><td>0.71</td><td>5.5</td><td>0.5</td><td>0.5</td><td>0.0</td><td>0.0</td><td>6.8</td><td>2.0</td><td>0.0</td><td>337</td><td>Queens</td><td>Jackson Heights</td><td>Boro Zone</td><td>-73.8874063794919</td><td>40.7590574739636</td><td>Queens</td><td>Jackson Heights</td><td>Boro Zone</td><td>-73.8874063794919</td><td>40.7590574739636</td><td>Green Taxi</td></tr><tr><td>VeriFone Inc.</td><td>2020-01-01T00:25:52</td><td>2020-01-01T00:32:16</td><td>1.0</td><td>129</td><td>83</td><td>1.0</td><td>0.8</td><td>5.5</td><td>0.5</td><td>0.5</td><td>0.0</td><td>0.0</td><td>6.8</td><td>2.0</td><td>0.0</td><td>384</td><td>Queens</td><td>Jackson Heights</td><td>Boro Zone</td><td>-73.8874063794919</td><td>40.7590574739636</td><td>Queens</td><td>Elmhurst/Maspeth</td><td>Boro Zone</td><td>-73.889221829475</td><td>40.7401456031773</td><td>Green Taxi</td></tr><tr><td>VeriFone Inc.</td><td>2020-01-01T00:47:32</td><td>2020-01-01T00:59:25</td><td>1.0</td><td>82</td><td>173</td><td>1.0</td><td>1.52</td><td>9.5</td><td>0.5</td><td>0.5</td><td>0.0</td><td>0.0</td><td>10.8</td><td>2.0</td><td>0.0</td><td>713</td><td>Queens</td><td>Elmhurst</td><td>Boro Zone</td><td>-73.8723440095934</td><td>40.7384639203673</td><td>Queens</td><td>North Corona</td><td>Boro Zone</td><td>-73.8630837007824</td><td>40.7517792439212</td><td>Green Taxi</td></tr></tbody></table></div>"
      ]
     },
     "metadata": {
      "application/vnd.databricks.v1+output": {
       "addedWidgets": {},
       "aggData": [],
       "aggError": "",
       "aggOverflow": false,
       "aggSchema": [],
       "aggSeriesLimitReached": false,
       "aggType": "",
       "arguments": {},
       "columnCustomDisplayInfos": {},
       "data": [
        [
         "VeriFone Inc.",
         "2020-01-01T00:45:58",
         "2020-01-01T00:56:39",
         5,
         66,
         65,
         2,
         1.28,
         20,
         0,
         0,
         4.06,
         0,
         24.36,
         1,
         0,
         641,
         "Brooklyn",
         "DUMBO/Vinegar Hill",
         "Boro Zone",
         -73.9863827475546,
         40.701732471687,
         "Brooklyn",
         "Downtown Brooklyn/MetroTech",
         "Boro Zone",
         -73.9855710635353,
         40.6953726093294,
         "Green Taxi"
        ],
        [
         "VeriFone Inc.",
         "2020-01-01T00:41:38",
         "2020-01-01T00:52:49",
         1,
         181,
         228,
         1,
         2.47,
         10.5,
         0.5,
         0.5,
         3.54,
         0,
         15.34,
         1,
         0,
         671,
         "Brooklyn",
         "Park Slope",
         "Boro Zone",
         -73.979044896845,
         40.672019140546,
         "Brooklyn",
         "Sunset Park West",
         "Boro Zone",
         -74.009960471569,
         40.6536182069019,
         "Green Taxi"
        ],
        [
         "Creative Mobile Technologies",
         "2020-01-01T00:52:46",
         "2020-01-01T01:14:21",
         1,
         129,
         263,
         2,
         6.3,
         21,
         3.25,
         0.5,
         0,
         0,
         25.05,
         2,
         2.75,
         1295,
         "Queens",
         "Jackson Heights",
         "Boro Zone",
         -73.8874063794919,
         40.7590574739636,
         "Manhattan",
         "Yorkville West",
         "Yellow Zone",
         -73.9512079916544,
         40.7784958687768,
         "Green Taxi"
        ],
        [
         "Creative Mobile Technologies",
         "2020-01-01T00:19:57",
         "2020-01-01T00:30:56",
         1,
         210,
         150,
         1,
         2.3,
         10,
         0.5,
         0.5,
         0,
         0,
         11.3,
         1,
         0,
         659,
         "Brooklyn",
         "Sheepshead Bay",
         "Boro Zone",
         -73.9443360454416,
         40.5937616085004,
         "Brooklyn",
         "Manhattan Beach",
         "Boro Zone",
         -73.9428842620734,
         40.5802623241253,
         "Green Taxi"
        ],
        [
         "Creative Mobile Technologies",
         "2020-01-01T00:52:33",
         "2020-01-01T01:09:54",
         1,
         35,
         39,
         1,
         3,
         13.5,
         0.5,
         0.5,
         0,
         0,
         14.8,
         1,
         0,
         1041,
         "Brooklyn",
         "Brownsville",
         "Boro Zone",
         -73.9124814882782,
         40.6638098226151,
         "Brooklyn",
         "Canarsie",
         "Boro Zone",
         -73.899773871952,
         40.6388789299243,
         "Green Taxi"
        ],
        [
         "VeriFone Inc.",
         "2020-01-01T00:10:18",
         "2020-01-01T00:22:16",
         1,
         25,
         61,
         1,
         2.77,
         11,
         0.5,
         0.5,
         0,
         0,
         12.3,
         2,
         0,
         718,
         "Brooklyn",
         "Boerum Hill",
         "Boro Zone",
         -73.9864589876713,
         40.685614589464,
         "Brooklyn",
         "Crown Heights North",
         "Boro Zone",
         -73.9412820292214,
         40.6738428461316,
         "Green Taxi"
        ],
        [
         "VeriFone Inc.",
         "2020-01-01T01:03:14",
         "2020-01-01T01:29:45",
         1,
         225,
         89,
         1,
         4.98,
         20.5,
         0.5,
         0.5,
         0,
         0,
         21.8,
         2,
         0,
         1591,
         "Brooklyn",
         "Stuyvesant Heights",
         "Boro Zone",
         -73.9314448522357,
         40.6887850672001,
         "Brooklyn",
         "Flatbush/Ditmas Park",
         "Boro Zone",
         -73.9626937337469,
         40.64098273381,
         "Green Taxi"
        ],
        [
         "VeriFone Inc.",
         "2020-01-01T00:04:11",
         "2020-01-01T00:09:48",
         1,
         129,
         129,
         1,
         0.71,
         5.5,
         0.5,
         0.5,
         0,
         0,
         6.8,
         2,
         0,
         337,
         "Queens",
         "Jackson Heights",
         "Boro Zone",
         -73.8874063794919,
         40.7590574739636,
         "Queens",
         "Jackson Heights",
         "Boro Zone",
         -73.8874063794919,
         40.7590574739636,
         "Green Taxi"
        ],
        [
         "VeriFone Inc.",
         "2020-01-01T00:25:52",
         "2020-01-01T00:32:16",
         1,
         129,
         83,
         1,
         0.8,
         5.5,
         0.5,
         0.5,
         0,
         0,
         6.8,
         2,
         0,
         384,
         "Queens",
         "Jackson Heights",
         "Boro Zone",
         -73.8874063794919,
         40.7590574739636,
         "Queens",
         "Elmhurst/Maspeth",
         "Boro Zone",
         -73.889221829475,
         40.7401456031773,
         "Green Taxi"
        ],
        [
         "VeriFone Inc.",
         "2020-01-01T00:47:32",
         "2020-01-01T00:59:25",
         1,
         82,
         173,
         1,
         1.52,
         9.5,
         0.5,
         0.5,
         0,
         0,
         10.8,
         2,
         0,
         713,
         "Queens",
         "Elmhurst",
         "Boro Zone",
         -73.8723440095934,
         40.7384639203673,
         "Queens",
         "North Corona",
         "Boro Zone",
         -73.8630837007824,
         40.7517792439212,
         "Green Taxi"
        ]
       ],
       "datasetInfos": [],
       "dbfsResultPath": null,
       "isJsonSchema": true,
       "metadata": {},
       "overflow": false,
       "plotOptions": {
        "customPlotOptions": {},
        "displayType": "table",
        "pivotAggregation": null,
        "pivotColumns": null,
        "xColumns": null,
        "yColumns": null
       },
       "removedWidgets": [],
       "schema": [
        {
         "metadata": "{}",
         "name": "RecordProviderName",
         "type": "\"string\""
        },
        {
         "metadata": "{}",
         "name": "PickupDatetime",
         "type": "\"timestamp_ntz\""
        },
        {
         "metadata": "{}",
         "name": "DropoffDatetime",
         "type": "\"timestamp_ntz\""
        },
        {
         "metadata": "{}",
         "name": "RatecodeID",
         "type": "\"double\""
        },
        {
         "metadata": "{}",
         "name": "PULocationID",
         "type": "\"long\""
        },
        {
         "metadata": "{}",
         "name": "DOLocationID",
         "type": "\"long\""
        },
        {
         "metadata": "{}",
         "name": "passenger_count",
         "type": "\"double\""
        },
        {
         "metadata": "{}",
         "name": "TripDistanceMiles",
         "type": "\"double\""
        },
        {
         "metadata": "{}",
         "name": "MeterFareAmount",
         "type": "\"double\""
        },
        {
         "metadata": "{}",
         "name": "extra",
         "type": "\"double\""
        },
        {
         "metadata": "{}",
         "name": "tax",
         "type": "\"double\""
        },
        {
         "metadata": "{}",
         "name": "tip_amount",
         "type": "\"double\""
        },
        {
         "metadata": "{}",
         "name": "tolls_amount",
         "type": "\"double\""
        },
        {
         "metadata": "{}",
         "name": "total_amount",
         "type": "\"double\""
        },
        {
         "metadata": "{}",
         "name": "payment_type",
         "type": "\"double\""
        },
        {
         "metadata": "{}",
         "name": "congestion_surcharge",
         "type": "\"double\""
        },
        {
         "metadata": "{}",
         "name": "TripDuration",
         "type": "\"long\""
        },
        {
         "metadata": "{}",
         "name": "PickupBorough",
         "type": "\"string\""
        },
        {
         "metadata": "{}",
         "name": "PickupZone",
         "type": "\"string\""
        },
        {
         "metadata": "{}",
         "name": "PickupServiceZone",
         "type": "\"string\""
        },
        {
         "metadata": "{}",
         "name": "PULatitude",
         "type": "\"double\""
        },
        {
         "metadata": "{}",
         "name": "PULongitude",
         "type": "\"double\""
        },
        {
         "metadata": "{}",
         "name": "DropoffBorough",
         "type": "\"string\""
        },
        {
         "metadata": "{}",
         "name": "DropoffZone",
         "type": "\"string\""
        },
        {
         "metadata": "{}",
         "name": "DropoffServiceZone",
         "type": "\"string\""
        },
        {
         "metadata": "{}",
         "name": "DOLatitude",
         "type": "\"double\""
        },
        {
         "metadata": "{}",
         "name": "DOLongitude",
         "type": "\"double\""
        },
        {
         "metadata": "{}",
         "name": "RideType",
         "type": "\"string\""
        }
       ],
       "type": "table"
      }
     },
     "output_type": "display_data"
    }
   ],
   "source": [
    "# Remove trips with zero or negative distance\n",
    "gt_df_S = gt_df_S.filter(gt_df_S['TripDistanceMiles'] > 0)\n",
    "\n",
    "# Remove trips with very short duration (less than 10 seconds)\n",
    "gt_df_S = gt_df_S.filter(gt_df_S[\"TripDuration\"] >= 10)\n",
    "\n",
    "# Remove invalid locations\n",
    "gt_df_S = gt_df_S.filter(\n",
    "    (col('PULocationID') >= 1) & (col('PULocationID') <= 263) &\n",
    "    (col('DOLocationID') >= 1) & (col('DOLocationID') <= 263)\n",
    ")\n",
    "\n",
    "# Handle disputed payments\n",
    "gt_df_S = gt_df_S.filter(~((col('total_amount') < 0) & (col('payment_type') == 4)))\n",
    "\n",
    "# Drop unnecessary columns\n",
    "gt_df_S = gt_df_S.drop('store_and_fwd_flag', 'ehail_fee', 'NoOfPassengers', 'FareType', 'PaymentType', 'improvement_surcharge', 'trip_type')\n",
    "\n",
    "# Add ride type identifier\n",
    "gt_df_S = gt_df_S.withColumn(\"RideType\", lit(\"Green Taxi\"))\n",
    "\n",
    "# Display processed data\n",
    "print(\"Processed Green Taxi Data Summary:\")\n",
    "print(f\"Number of Records: {gt_df_S.count()}\")\n",
    "print(f\"Number of Columns: {len(gt_df_S.columns)}\")\n",
    "display(gt_df_S.limit(10))"
   ]
  },
  {
   "cell_type": "markdown",
   "metadata": {
    "application/vnd.databricks.v1+cell": {
     "cellMetadata": {
      "byteLimit": 2048000,
      "rowLimit": 10000
     },
     "inputWidgets": {},
     "nuid": "022ebb3b-20a2-4760-8261-069ee34b16b6",
     "showTitle": false,
     "tableResultSettingsMap": {},
     "title": ""
    }
   },
   "source": [
    "## 3.4 Final Data Transformations\n",
    "\n",
    "Now we'll:\n",
    "1. Merge Yellow and Green taxi data\n",
    "2. Add time-based features\n",
    "3. Create daily aggregations by Date, Pickup borough, & Ride type\n",
    "4. Add additional features (seasons, holidays, workdays)"
   ]
  },
  {
   "cell_type": "code",
   "execution_count": 0,
   "metadata": {
    "application/vnd.databricks.v1+cell": {
     "cellMetadata": {
      "byteLimit": 2048000,
      "rowLimit": 10000
     },
     "inputWidgets": {},
     "nuid": "04ea84d6-9fea-492f-ae1a-b82ba5ea7d4c",
     "showTitle": false,
     "tableResultSettingsMap": {},
     "title": ""
    }
   },
   "outputs": [],
   "source": [
    "# Merge Yellow and Green taxi data\n",
    "merged_df = yt_df_S.unionByName(gt_df_S)\n",
    "\n",
    "# Convert pickup datetime to timestamp and extract date\n",
    "merged_df = merged_df.withColumn('PickupDatetime', merged_df['PickupDatetime'].cast('timestamp'))\n",
    "merged_df = merged_df.withColumn('Date', merged_df['PickupDatetime'].cast('date'))\n",
    "\n",
    "# Create daily aggregations\n",
    "daily_agg_df = merged_df.groupBy('Date', 'PickupBorough', 'RideType') \\\n",
    "                       .count() \\\n",
    "                       .withColumnRenamed('count', 'RideCount')\n",
    "\n",
    "# Filter date range\n",
    "daily_agg_df = daily_agg_df.filter((col('Date') >= '2020-01-01') & (col('Date') < '2025-01-01'))\n",
    "\n",
    "# Add time-based features i.e. breakdown the date into year, month, day\n",
    "daily_agg_df = daily_agg_df.withColumn('Year', year(col('Date'))) \\\n",
    "                          .withColumn('Month', month(col('Date'))) \\\n",
    "                          .withColumn('Day', dayofmonth(col('Date')))\n",
    "\n",
    "# Add season\n",
    "daily_agg_df = daily_agg_df.withColumn('Season', \n",
    "    when(col('Month').between(3, 5), 'Spring')\n",
    "    .when(col('Month').between(6, 8), 'Summer')\n",
    "    .when(col('Month').between(9, 11), 'Autumn')\n",
    "    .otherwise('Winter'))"
   ]
  },
  {
   "cell_type": "markdown",
   "metadata": {
    "application/vnd.databricks.v1+cell": {
     "cellMetadata": {
      "byteLimit": 2048000,
      "rowLimit": 10000
     },
     "inputWidgets": {},
     "nuid": "e3463438-727a-44dd-8ca0-1894c81317d9",
     "showTitle": false,
     "tableResultSettingsMap": {},
     "title": ""
    }
   },
   "source": [
    "### Add a binary column for public holidays in New York"
   ]
  },
  {
   "cell_type": "code",
   "execution_count": 0,
   "metadata": {
    "application/vnd.databricks.v1+cell": {
     "cellMetadata": {
      "byteLimit": 2048000,
      "rowLimit": 10000
     },
     "inputWidgets": {},
     "nuid": "05d16aee-9a3d-4274-ac21-fd45e91c40a3",
     "showTitle": false,
     "tableResultSettingsMap": {},
     "title": ""
    }
   },
   "outputs": [],
   "source": [
    "# Create the holidays object\n",
    "nyc_holidays = holidays.country_holidays('US', subdiv='NY')\n",
    "\n",
    "# Broadcast the holidays to Spark workers\n",
    "broadcast_holidays = spark.sparkContext.broadcast(nyc_holidays)\n",
    "\n",
    "# Define a User-defined function (UDF) to check if a date is a holiday\n",
    "def is_public_holiday(date):\n",
    "    return 1 if date in broadcast_holidays.value else 0\n",
    "holiday_udf = udf(is_public_holiday, IntegerType())\n",
    "\n",
    "# Apply the UDF to your DataFrame\n",
    "daily_agg_df = daily_agg_df.withColumn(\"PublicHoliday\", holiday_udf(daily_agg_df[\"Date\"]))"
   ]
  },
  {
   "cell_type": "code",
   "execution_count": 0,
   "metadata": {
    "application/vnd.databricks.v1+cell": {
     "cellMetadata": {
      "byteLimit": 2048000,
      "rowLimit": 10000
     },
     "inputWidgets": {},
     "nuid": "9de57a45-beca-4faf-a2f0-d624f23526e0",
     "showTitle": false,
     "tableResultSettingsMap": {},
     "title": ""
    }
   },
   "outputs": [
    {
     "name": "stdout",
     "output_type": "stream",
     "text": [
      "\n",
      "Final Dataset Summary:\n",
      "Number of records: 18519\n"
     ]
    },
    {
     "data": {
      "text/html": [
       "<style scoped>\n",
       "  .table-result-container {\n",
       "    max-height: 300px;\n",
       "    overflow: auto;\n",
       "  }\n",
       "  table, th, td {\n",
       "    border: 1px solid black;\n",
       "    border-collapse: collapse;\n",
       "  }\n",
       "  th, td {\n",
       "    padding: 5px;\n",
       "  }\n",
       "  th {\n",
       "    text-align: left;\n",
       "  }\n",
       "</style><div class='table-result-container'><table class='table-result'><thead style='background-color: white'><tr><th>PickupBorough</th><th>RideType</th><th>RideCount</th><th>Year</th><th>Month</th><th>Day</th><th>Season</th><th>PublicHoliday</th><th>DayOfWeek</th><th>Workday</th></tr></thead><tbody><tr><td>EWR</td><td>Yellow Taxi</td><td>8</td><td>2020</td><td>1</td><td>2</td><td>Winter</td><td>0</td><td>Thu</td><td>1</td></tr><tr><td>EWR</td><td>Yellow Taxi</td><td>4</td><td>2020</td><td>1</td><td>22</td><td>Winter</td><td>0</td><td>Wed</td><td>1</td></tr><tr><td>Brooklyn</td><td>Yellow Taxi</td><td>1612</td><td>2020</td><td>1</td><td>2</td><td>Winter</td><td>0</td><td>Thu</td><td>1</td></tr><tr><td>Brooklyn</td><td>Yellow Taxi</td><td>2546</td><td>2020</td><td>1</td><td>7</td><td>Winter</td><td>0</td><td>Tue</td><td>1</td></tr><tr><td>Queens</td><td>Yellow Taxi</td><td>11357</td><td>2020</td><td>1</td><td>19</td><td>Winter</td><td>0</td><td>Sun</td><td>0</td></tr><tr><td>EWR</td><td>Yellow Taxi</td><td>6</td><td>2020</td><td>1</td><td>19</td><td>Winter</td><td>0</td><td>Sun</td><td>0</td></tr><tr><td>Brooklyn</td><td>Yellow Taxi</td><td>1808</td><td>2020</td><td>1</td><td>21</td><td>Winter</td><td>0</td><td>Tue</td><td>1</td></tr><tr><td>Manhattan</td><td>Yellow Taxi</td><td>197971</td><td>2020</td><td>1</td><td>15</td><td>Winter</td><td>0</td><td>Wed</td><td>1</td></tr><tr><td>Queens</td><td>Yellow Taxi</td><td>12787</td><td>2020</td><td>1</td><td>16</td><td>Winter</td><td>0</td><td>Thu</td><td>1</td></tr><tr><td>Manhattan</td><td>Yellow Taxi</td><td>222564</td><td>2020</td><td>1</td><td>30</td><td>Winter</td><td>0</td><td>Thu</td><td>1</td></tr></tbody></table></div>"
      ]
     },
     "metadata": {
      "application/vnd.databricks.v1+output": {
       "addedWidgets": {},
       "aggData": [],
       "aggError": "",
       "aggOverflow": false,
       "aggSchema": [],
       "aggSeriesLimitReached": false,
       "aggType": "",
       "arguments": {},
       "columnCustomDisplayInfos": {},
       "data": [
        [
         "EWR",
         "Yellow Taxi",
         8,
         2020,
         1,
         2,
         "Winter",
         0,
         "Thu",
         1
        ],
        [
         "EWR",
         "Yellow Taxi",
         4,
         2020,
         1,
         22,
         "Winter",
         0,
         "Wed",
         1
        ],
        [
         "Brooklyn",
         "Yellow Taxi",
         1612,
         2020,
         1,
         2,
         "Winter",
         0,
         "Thu",
         1
        ],
        [
         "Brooklyn",
         "Yellow Taxi",
         2546,
         2020,
         1,
         7,
         "Winter",
         0,
         "Tue",
         1
        ],
        [
         "Queens",
         "Yellow Taxi",
         11357,
         2020,
         1,
         19,
         "Winter",
         0,
         "Sun",
         0
        ],
        [
         "EWR",
         "Yellow Taxi",
         6,
         2020,
         1,
         19,
         "Winter",
         0,
         "Sun",
         0
        ],
        [
         "Brooklyn",
         "Yellow Taxi",
         1808,
         2020,
         1,
         21,
         "Winter",
         0,
         "Tue",
         1
        ],
        [
         "Manhattan",
         "Yellow Taxi",
         197971,
         2020,
         1,
         15,
         "Winter",
         0,
         "Wed",
         1
        ],
        [
         "Queens",
         "Yellow Taxi",
         12787,
         2020,
         1,
         16,
         "Winter",
         0,
         "Thu",
         1
        ],
        [
         "Manhattan",
         "Yellow Taxi",
         222564,
         2020,
         1,
         30,
         "Winter",
         0,
         "Thu",
         1
        ]
       ],
       "datasetInfos": [],
       "dbfsResultPath": null,
       "isJsonSchema": true,
       "metadata": {},
       "overflow": false,
       "plotOptions": {
        "customPlotOptions": {},
        "displayType": "table",
        "pivotAggregation": null,
        "pivotColumns": null,
        "xColumns": null,
        "yColumns": null
       },
       "removedWidgets": [],
       "schema": [
        {
         "metadata": "{}",
         "name": "PickupBorough",
         "type": "\"string\""
        },
        {
         "metadata": "{}",
         "name": "RideType",
         "type": "\"string\""
        },
        {
         "metadata": "{}",
         "name": "RideCount",
         "type": "\"long\""
        },
        {
         "metadata": "{}",
         "name": "Year",
         "type": "\"integer\""
        },
        {
         "metadata": "{}",
         "name": "Month",
         "type": "\"integer\""
        },
        {
         "metadata": "{}",
         "name": "Day",
         "type": "\"integer\""
        },
        {
         "metadata": "{}",
         "name": "Season",
         "type": "\"string\""
        },
        {
         "metadata": "{}",
         "name": "PublicHoliday",
         "type": "\"integer\""
        },
        {
         "metadata": "{}",
         "name": "DayOfWeek",
         "type": "\"string\""
        },
        {
         "metadata": "{}",
         "name": "Workday",
         "type": "\"integer\""
        }
       ],
       "type": "table"
      }
     },
     "output_type": "display_data"
    }
   ],
   "source": [
    "# Add a coulum for day of the week\n",
    "daily_agg_df = daily_agg_df.withColumn('DayOfWeek', date_format(col('Date'), 'E'))\n",
    "\n",
    "# Add workday indicator\n",
    "daily_agg_df = daily_agg_df.withColumn('Workday', \n",
    "    when(col('DayOfWeek').isin(['Mon', 'Tue', 'Wed', 'Thu', 'Fri']), 1)\n",
    "    .otherwise(0))\n",
    "\n",
    "# Drop the date column\n",
    "daily_agg_df = daily_agg_df.drop('Date')\n",
    "\n",
    "# Display final dataset structure\n",
    "print(\"\\nFinal Dataset Summary:\")\n",
    "print(f\"Number of records: {daily_agg_df.count()}\")\n",
    "display(daily_agg_df.limit(10))"
   ]
  },
  {
   "cell_type": "markdown",
   "metadata": {
    "application/vnd.databricks.v1+cell": {
     "cellMetadata": {
      "byteLimit": 2048000,
      "rowLimit": 10000
     },
     "inputWidgets": {},
     "nuid": "cdaac39c-6647-4133-a9c7-d5b0310b95b8",
     "showTitle": false,
     "tableResultSettingsMap": {},
     "title": ""
    }
   },
   "source": [
    "# 4. Load Data (L)\n",
    "\n",
    "In this final section, we will:\n",
    "1. Save the processed data as CSV\n",
    "2. Create MLTable configuration for Azure ML\n",
    "3. Mount Azure storage\n",
    "4. Copy the data to Azure ML datastore"
   ]
  },
  {
   "cell_type": "markdown",
   "metadata": {
    "application/vnd.databricks.v1+cell": {
     "cellMetadata": {
      "byteLimit": 2048000,
      "rowLimit": 10000
     },
     "inputWidgets": {},
     "nuid": "45669ea5-0d6d-4f33-82d1-4c357876517a",
     "showTitle": false,
     "tableResultSettingsMap": {},
     "title": ""
    }
   },
   "source": [
    "### Save the processed data as CSV"
   ]
  },
  {
   "cell_type": "code",
   "execution_count": 0,
   "metadata": {
    "application/vnd.databricks.v1+cell": {
     "cellMetadata": {
      "byteLimit": 2048000,
      "rowLimit": 10000
     },
     "inputWidgets": {},
     "nuid": "b3fe547a-9dc2-4a21-9eff-fc0aae376c83",
     "showTitle": false,
     "tableResultSettingsMap": {},
     "title": ""
    }
   },
   "outputs": [],
   "source": [
    "# Save the processed DataFrame as a CSV file\n",
    "daily_agg_df.coalesce(1).write.format('csv').mode('overwrite').option('header', 'true').save(\"/FileStore/tables/Output/\")"
   ]
  },
  {
   "cell_type": "code",
   "execution_count": 0,
   "metadata": {
    "application/vnd.databricks.v1+cell": {
     "cellMetadata": {
      "byteLimit": 2048000,
      "rowLimit": 10000
     },
     "inputWidgets": {},
     "nuid": "a1a2c313-aa77-4f6f-9654-76f98bcbf3d6",
     "showTitle": false,
     "tableResultSettingsMap": {},
     "title": ""
    }
   },
   "outputs": [
    {
     "name": "stdout",
     "output_type": "stream",
     "text": [
      "part-00000-tid-234508123809289828-d269518f-16ff-40e5-80ec-8d0b16bcd192-888-1-c000.csv\n"
     ]
    }
   ],
   "source": [
    "%sh\n",
    "\n",
    "# Verify the output folder (there shoud be a .csv file with name like part-00000*)\n",
    "cd /dbfs/FileStore/tables/Output/\n",
    "ls *.csv"
   ]
  },
  {
   "cell_type": "code",
   "execution_count": 0,
   "metadata": {
    "application/vnd.databricks.v1+cell": {
     "cellMetadata": {
      "byteLimit": 2048000,
      "rowLimit": 10000
     },
     "inputWidgets": {},
     "nuid": "463bf12a-18a9-4f69-a035-1d3c38af0b8f",
     "showTitle": false,
     "tableResultSettingsMap": {},
     "title": ""
    }
   },
   "outputs": [
    {
     "name": "stdout",
     "output_type": "stream",
     "text": [
      "nyc_daily_aggregated.csv\n"
     ]
    }
   ],
   "source": [
    "%sh\n",
    "\n",
    "cd /dbfs/FileStore/tables/Output/\n",
    "# Rename the final CSV file\n",
    "mv ./part-00000* ./nyc_daily_aggregated.csv\n",
    "ls *.csv"
   ]
  },
  {
   "cell_type": "markdown",
   "metadata": {
    "application/vnd.databricks.v1+cell": {
     "cellMetadata": {
      "byteLimit": 2048000,
      "rowLimit": 10000
     },
     "inputWidgets": {},
     "nuid": "d2b35850-6af2-4341-96df-1b644df92c74",
     "showTitle": false,
     "tableResultSettingsMap": {},
     "title": ""
    }
   },
   "source": [
    "### Create `MLTable` configuration file for Azure ML"
   ]
  },
  {
   "cell_type": "code",
   "execution_count": 0,
   "metadata": {
    "application/vnd.databricks.v1+cell": {
     "cellMetadata": {
      "byteLimit": 2048000,
      "rowLimit": 10000
     },
     "inputWidgets": {},
     "nuid": "98cc3b79-4db1-4fb4-9dea-c9af26a80dbf",
     "showTitle": false,
     "tableResultSettingsMap": {},
     "title": ""
    }
   },
   "outputs": [],
   "source": [
    "%sh\n",
    "\n",
    "# Create MLTable configuration for Azure ML\n",
    "cd /dbfs/FileStore/tables/Output/\n",
    "echo \"# MLTable definition file\n",
    "paths:\n",
    "  - file: ./nyc_daily_aggregated.csv\n",
    "transformations:\n",
    "  - read_delimited:\n",
    "      delimiter: ','\n",
    "      encoding: 'ascii'\" > MLTable"
   ]
  },
  {
   "cell_type": "markdown",
   "metadata": {
    "application/vnd.databricks.v1+cell": {
     "cellMetadata": {
      "byteLimit": 2048000,
      "rowLimit": 10000
     },
     "inputWidgets": {},
     "nuid": "9c0ff530-0a79-4075-b368-e3a27a999237",
     "showTitle": false,
     "tableResultSettingsMap": {},
     "title": ""
    }
   },
   "source": [
    "### Mount Azure storage"
   ]
  },
  {
   "cell_type": "code",
   "execution_count": 0,
   "metadata": {
    "application/vnd.databricks.v1+cell": {
     "cellMetadata": {
      "byteLimit": 2048000,
      "rowLimit": 10000
     },
     "inputWidgets": {},
     "nuid": "24072970-cc55-4649-bf78-d750a33fb667",
     "showTitle": false,
     "tableResultSettingsMap": {},
     "title": ""
    }
   },
   "outputs": [
    {
     "data": {
      "text/plain": [
       "True"
      ]
     },
     "execution_count": 31,
     "metadata": {},
     "output_type": "execute_result"
    }
   ],
   "source": [
    "# Replace these with your actual values\n",
    "container_name = \"azureml-blobstore-95bbd763-1d6c-4c3c-9f2b-c3d9b1457146\"\n",
    "storage_account_name = \"atsazureml0329310979\"\n",
    "storage_account_key = \"/QLBKgKRC3lkqnuGDl1PuZdzUM-EXAMPLE-lrDgkVndfozKmplxwY/Ulh/YqPCGgIou+AStC9zx0w==\"\n",
    "\n",
    "# Mount the container to DBFS\n",
    "dbutils.fs.mount(\n",
    "    source = f\"wasbs://{container_name}@{storage_account_name}.blob.core.windows.net/\",\n",
    "    mount_point = \"/mnt/AzureMLDatastore\",\n",
    "    extra_configs = {\n",
    "        f\"fs.azure.account.key.{storage_account_name}.blob.core.windows.net\": storage_account_key\n",
    "    }\n",
    ")"
   ]
  },
  {
   "cell_type": "markdown",
   "metadata": {
    "application/vnd.databricks.v1+cell": {
     "cellMetadata": {
      "byteLimit": 2048000,
      "rowLimit": 10000
     },
     "inputWidgets": {},
     "nuid": "4b630936-3f0c-4bd2-957e-d88d6e15e738",
     "showTitle": false,
     "tableResultSettingsMap": {},
     "title": ""
    }
   },
   "source": [
    "### Copy the data to Azure ML Datastore"
   ]
  },
  {
   "cell_type": "code",
   "execution_count": 0,
   "metadata": {
    "application/vnd.databricks.v1+cell": {
     "cellMetadata": {
      "byteLimit": 2048000,
      "rowLimit": 10000
     },
     "inputWidgets": {},
     "nuid": "2dd1f8db-156e-4d7f-a9b6-3bc3bf94bc3e",
     "showTitle": false,
     "tableResultSettingsMap": {},
     "title": ""
    }
   },
   "outputs": [
    {
     "data": {
      "text/plain": [
       "True"
      ]
     },
     "execution_count": 32,
     "metadata": {},
     "output_type": "execute_result"
    }
   ],
   "source": [
    "# Copy the CSV file\n",
    "dbutils.fs.cp(\"/FileStore/tables/Output/nyc_daily_aggregated.csv\", \"/mnt/AzureMLDatastore/nyctaxi/nyc_daily_aggregated.csv\")\n",
    "\n",
    "# Copy the MLTable file\n",
    "dbutils.fs.cp(\"/FileStore/tables/Output/MLTable\", \"/mnt/AzureMLDatastore/nyctaxi/MLTable\")"
   ]
  },
  {
   "cell_type": "markdown",
   "metadata": {
    "application/vnd.databricks.v1+cell": {
     "cellMetadata": {
      "byteLimit": 2048000,
      "rowLimit": 10000
     },
     "inputWidgets": {},
     "nuid": "fec6634b-66f6-4ea7-b5e8-0daa3464e679",
     "showTitle": false,
     "tableResultSettingsMap": {},
     "title": ""
    }
   },
   "source": [
    "### Verify the files in the Azure Storage account\n",
    "![Verify Azure ML Datastore](https://atsailabstorage.blob.core.windows.net/misc/VerifyAzureMLDatastore.png)"
   ]
  },
  {
   "cell_type": "markdown",
   "metadata": {
    "application/vnd.databricks.v1+cell": {
     "cellMetadata": {
      "byteLimit": 2048000,
      "rowLimit": 10000
     },
     "inputWidgets": {},
     "nuid": "26f83a15-6b0c-4fcb-9633-b62462f2a559",
     "showTitle": false,
     "tableResultSettingsMap": {},
     "title": ""
    }
   },
   "source": [
    "# Conclusion\n",
    "\n",
    "We have successfully completed the ETL process for NYC Taxi data:\n",
    "\n",
    "1. **Extracted** data from NYC Taxi and Limousine Commission (TLC) server:\n",
    "   - Yellow Taxi trip records\n",
    "   - Green Taxi trip records\n",
    "   - Taxi zone lookup tables\n",
    "   - Location coordinates\n",
    "\n",
    "2. **Transformed** the data by:\n",
    "   - Cleaning invalid records\n",
    "   - Standardizing column names\n",
    "   - Merging Yellow and Green taxi data\n",
    "   - Creating daily aggregations by date, borough, & ride type\n",
    "   - Adding derived features\n",
    "\n",
    "3. **Loaded** the processed data:\n",
    "   - Saved as CSV file\n",
    "   - Created MLTable configuration\n",
    "   - Copied the files to Azure ML datastore\n",
    "\n",
    "The final dataset is now ready for model training in Azure Machine Learning studio."
   ]
  }
 ],
 "metadata": {
  "application/vnd.databricks.v1+notebook": {
   "computePreferences": null,
   "dashboards": [],
   "environmentMetadata": null,
   "inputWidgetPreferences": null,
   "language": "python",
   "notebookMetadata": {
    "mostRecentlyExecutedCommandWithImplicitDF": {
     "commandId": 5218974525136618,
     "dataframes": [
      "_sqldf"
     ]
    },
    "pythonIndentUnit": 4
   },
   "notebookName": "NYC Taxi Data Engineering",
   "widgets": {}
  },
  "language_info": {
   "name": "python"
  }
 },
 "nbformat": 4,
 "nbformat_minor": 0
}
